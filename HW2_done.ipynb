{
  "cells": [
    {
      "cell_type": "markdown",
      "metadata": {
        "id": "7yABf1ygEuhs"
      },
      "source": [
        "# HW2 Matplotlib and Numpy (86 points)\n",
        "\n",
        "##Electronic submission due 11:59pm, Tue 2/28\n",
        "\n"
      ]
    },
    {
      "cell_type": "markdown",
      "metadata": {
        "id": "s0boxgGbFB9e"
      },
      "source": [
        "### Study the script and complete cells to answer questions Q1-Q18.\n",
        "\n",
        "To complete this homework, you need the data file named gradebook.txt, which contain the grades of 100 students in a class. (The homework script will download the file from github and use directly, or you can download the file from blackboard and save it in the same local folder as your homework script.) The data file contains 100 rows, each of which represents a student, and 20 columns: the first 10 columns are quizzes, the next 7 columns are homeworks, and the last three columns are exams. "
      ]
    },
    {
      "cell_type": "code",
      "execution_count": null,
      "metadata": {
        "id": "ux60x033kTus"
      },
      "outputs": [],
      "source": []
    },
    {
      "cell_type": "markdown",
      "metadata": {
        "id": "nvEmlHzZD64l"
      },
      "source": [
        "## Homework setup\n",
        "\n",
        "import some modules (pandas is for io. you don't need it for anything else in this homework.)\n",
        "\n",
        "load data from files into a numpy array: grades\n",
        "\n",
        "define a variable: column_type \n",
        "\n",
        "\n"
      ]
    },
    {
      "cell_type": "code",
      "execution_count": 52,
      "metadata": {
        "id": "RNYHSMn8Fn2J"
      },
      "outputs": [],
      "source": [
        "import numpy as np\n",
        "import matplotlib.pyplot as plt\n",
        "import pandas as pd "
      ]
    },
    {
      "cell_type": "code",
      "execution_count": 218,
      "metadata": {
        "colab": {
          "base_uri": "https://localhost:8080/"
        },
        "id": "APeSKVC8FpIT",
        "outputId": "be30a8e4-ce27-4ebb-c7e7-39dde06ef06e"
      },
      "outputs": [
        {
          "data": {
            "text/plain": [
              "numpy.ndarray"
            ]
          },
          "execution_count": 218,
          "metadata": {},
          "output_type": "execute_result"
        }
      ],
      "source": [
        "#%% load data file from github or from local file, and store in a (100x20) numpry array, grades\n",
        "\n",
        "url1='https://raw.githubusercontent.com/jianhuaruan/3753/main/gradebook.txt'\n",
        "\n",
        "url2='gradebook.txt'\n",
        "\n",
        "try:\n",
        "  # read from web\n",
        "  grades=pd.read_table(url1, delimiter=' ', header=None).values\n",
        "except Exception as error:\n",
        "  # read from local if the online attempt failed\n",
        "  grades=pd.read_table(url2, delimiter=' ', header=None).values\n",
        "\n",
        "# grades is a numpy array\n",
        "type(grades)"
      ]
    },
    {
      "cell_type": "code",
      "execution_count": 219,
      "metadata": {
        "colab": {
          "base_uri": "https://localhost:8080/"
        },
        "id": "sMkMFjKcdB2i",
        "outputId": "37b737b3-b028-41d8-c19c-82a84d07e8ee"
      },
      "outputs": [
        {
          "data": {
            "text/plain": [
              "array([1, 1, 1, 1, 1, 1, 1, 1, 1, 1, 2, 2, 2, 2, 2, 2, 2, 3, 3, 3])"
            ]
          },
          "execution_count": 219,
          "metadata": {},
          "output_type": "execute_result"
        }
      ],
      "source": [
        "# the values in the following numpy array (20 integers) may be useful to\n",
        "# determine which column is for what. \n",
        "# 1 - quiz. 2 - homework. 3 - exam. \n",
        "column_type = np.array([1]*10 + [2]*7 + [3]*3)\n",
        "column_type"
      ]
    },
    {
      "cell_type": "markdown",
      "metadata": {
        "id": "bi23gTmRjFE6"
      },
      "source": [
        "## Examples\n",
        "\n",
        "Example style to follow to display results. (If the last line in a cell is not an assignment, the variable value(s) will be displayed after execution of the cell. If you need to display multiple variables, either use print, or split into multiple cells."
      ]
    },
    {
      "cell_type": "code",
      "execution_count": 164,
      "metadata": {
        "colab": {
          "base_uri": "https://localhost:8080/"
        },
        "id": "_E0bZSBLh5Na",
        "outputId": "29a58249-961c-495a-ab23-739d1d5940ae"
      },
      "outputs": [
        {
          "name": "stdout",
          "output_type": "stream",
          "text": [
            "Shape of the array is:  (100, 20)\n",
            "Number of quizzes:  10\n"
          ]
        }
      ],
      "source": [
        "# use print to show multiple lines\n",
        "\n",
        "print('Shape of the array is: ', grades.shape)\n",
        "print('Number of quizzes: ', (column_type == 1).sum())"
      ]
    },
    {
      "cell_type": "code",
      "execution_count": 165,
      "metadata": {
        "colab": {
          "base_uri": "https://localhost:8080/"
        },
        "id": "GZUZr4gJjQ_2",
        "outputId": "96df3d8d-e81e-4edd-a516-de83c0ec9027"
      },
      "outputs": [
        {
          "data": {
            "text/plain": [
              "array([ 9. , 10. , 10. , 10. , 10. ,  9. , 10. ,  9. , 10. , 10. , 48. ,\n",
              "       47. , 47.5, 49. , 46.5, 48. , 47. , 74. , 80. , 78. ])"
            ]
          },
          "execution_count": 165,
          "metadata": {},
          "output_type": "execute_result"
        }
      ],
      "source": [
        "# show the median value of each column\n",
        "\n",
        "np.median(grades, 0)"
      ]
    },
    {
      "cell_type": "code",
      "execution_count": 166,
      "metadata": {
        "colab": {
          "base_uri": "https://localhost:8080/"
        },
        "id": "C6QywR0Ai6D7",
        "outputId": "e67c49a2-bd73-47c2-8225-46d3e6d7dba3"
      },
      "outputs": [
        {
          "data": {
            "text/plain": [
              "4"
            ]
          },
          "execution_count": 166,
          "metadata": {},
          "output_type": "execute_result"
        }
      ],
      "source": [
        "# show the number of students who have received > 90 in the final exam\n",
        "(grades[:, -1] > 90).sum()"
      ]
    },
    {
      "cell_type": "code",
      "execution_count": 167,
      "metadata": {
        "colab": {
          "base_uri": "https://localhost:8080/"
        },
        "id": "B7S2N6dDexnz",
        "outputId": "8ed1834a-c0cf-4860-ddc7-d031cde6243b"
      },
      "outputs": [
        {
          "data": {
            "text/plain": [
              "array([5, 2, 4, 0, 3, 3, 2])"
            ]
          },
          "execution_count": 167,
          "metadata": {},
          "output_type": "execute_result"
        }
      ],
      "source": [
        "# for each homework, show the number of students who received < 10 points\n",
        "(grades[:, column_type == 2] <= 10).sum(axis=0)"
      ]
    },
    {
      "cell_type": "code",
      "execution_count": 168,
      "metadata": {
        "colab": {
          "base_uri": "https://localhost:8080/"
        },
        "id": "EdtR9-lsfu7z",
        "outputId": "04926e3c-3b8c-4f25-aba9-ba20d0f2a2d2"
      },
      "outputs": [
        {
          "data": {
            "text/plain": [
              "array([ 0,  2,  3,  4, 14, 24, 29, 37, 39, 57])"
            ]
          },
          "execution_count": 168,
          "metadata": {},
          "output_type": "execute_result"
        }
      ],
      "source": [
        "# find out who has received >=90 points in at least one exam\n",
        "np.any(grades[:, -3:] >= 90, 1).nonzero()[0]"
      ]
    },
    {
      "cell_type": "markdown",
      "metadata": {
        "id": "Rkx49Ev27Yfq"
      },
      "source": [
        "# Complete the following cells to answer Q1 - Q18.\n",
        "For Q1-Q12: 3 points each. You should use as few lines as possible (ideally, one line or no more than two lines).\n",
        "\n",
        "Q13: 5 points\n",
        "\n",
        "Q14: 5 points\n",
        "\n",
        "Q15-Q18: 10 points each"
      ]
    },
    {
      "cell_type": "code",
      "execution_count": 153,
      "metadata": {
        "id": "A96dRGkw1ghN"
      },
      "outputs": [
        {
          "data": {
            "text/plain": [
              "array([ 10,  10,  10,  10,  10,  10,  10,  10,  10,  10,  50,  50,  50,\n",
              "        50,  50,  50,  50,  94, 100,  93], dtype=int64)"
            ]
          },
          "execution_count": 153,
          "metadata": {},
          "output_type": "execute_result"
        }
      ],
      "source": [
        "#%% Q1: show the max value of each column\n",
        "np.max(grades,axis=0)"
      ]
    },
    {
      "cell_type": "code",
      "execution_count": 154,
      "metadata": {
        "id": "UAJgbjrqcPWU"
      },
      "outputs": [
        {
          "data": {
            "text/plain": [
              "array([-2147483648, -2147483648, -2147483648, -2147483648, -2147483648,\n",
              "       -2147483648, -2147483648, -2147483648, -2147483648, -2147483648,\n",
              "       -2147483648, -2147483648, -2147483648,          21, -2147483648,\n",
              "       -2147483648, -2147483648,          60,          64,          62],\n",
              "      dtype=int64)"
            ]
          },
          "execution_count": 154,
          "metadata": {},
          "output_type": "execute_result"
        }
      ],
      "source": [
        "#%% Q2: show the min value of each column\n",
        "np.min(grades,axis=0)"
      ]
    },
    {
      "cell_type": "code",
      "execution_count": 155,
      "metadata": {
        "id": "4H6vpGd7781-"
      },
      "outputs": [
        {
          "data": {
            "text/plain": [
              "95"
            ]
          },
          "execution_count": 155,
          "metadata": {},
          "output_type": "execute_result"
        }
      ],
      "source": [
        "#%% Q3: Find out how many values in the array is negative \n",
        "(grades < 0).sum()"
      ]
    },
    {
      "cell_type": "code",
      "execution_count": 156,
      "metadata": {
        "id": "wlMyUcMh8lXV"
      },
      "outputs": [
        {
          "data": {
            "text/plain": [
              "0"
            ]
          },
          "execution_count": 156,
          "metadata": {},
          "output_type": "execute_result"
        }
      ],
      "source": [
        "#%% Q4: Find out how many values in the array is NaN (using np.isnan function)\n",
        "np.count_nonzero(np.isnan(grades))"
      ]
    },
    {
      "cell_type": "code",
      "execution_count": 220,
      "metadata": {
        "id": "Yjq5hpcOFsnO"
      },
      "outputs": [
        {
          "data": {
            "text/plain": [
              "0"
            ]
          },
          "execution_count": 220,
          "metadata": {},
          "output_type": "execute_result"
        }
      ],
      "source": [
        "#%% Q5. Replace negative values with 0. \n",
        "# Also find out how many values in the array is negative now (this is to double check. The answer should be 0.)\n",
        "grades[grades < 0] = 0\n",
        "(grades < 0).sum()"
      ]
    },
    {
      "cell_type": "code",
      "execution_count": 22,
      "metadata": {
        "id": "BmdC4LRm39tH"
      },
      "outputs": [
        {
          "data": {
            "text/plain": [
              "array([75.25, 79.62, 77.16])"
            ]
          },
          "execution_count": 22,
          "metadata": {},
          "output_type": "execute_result"
        }
      ],
      "source": [
        "#%% Q6. find out the mean score of each exam\n",
        "(grades[:, column_type == 3] ).mean(axis = 0)"
      ]
    },
    {
      "cell_type": "code",
      "execution_count": 24,
      "metadata": {
        "id": "-iIhEA8P9bk6"
      },
      "outputs": [
        {
          "data": {
            "text/plain": [
              "array([74., 80., 78.])"
            ]
          },
          "execution_count": 24,
          "metadata": {},
          "output_type": "execute_result"
        }
      ],
      "source": [
        "#%% Q7: find out the median score of each exam (using np.median)\n",
        "np.median(grades[:,-3:],axis = 0)"
      ]
    },
    {
      "cell_type": "code",
      "execution_count": 35,
      "metadata": {
        "id": "5O2JhA6I45Uk"
      },
      "outputs": [
        {
          "data": {
            "text/plain": [
              "array([27, 56, 39], dtype=int64)"
            ]
          },
          "execution_count": 35,
          "metadata": {},
          "output_type": "execute_result"
        }
      ],
      "source": [
        "#%% Q8. find out, for each exam, how many students had >= 80 \n",
        "np.count_nonzero(grades[:,-3:] >= 80,axis = 0)"
      ]
    },
    {
      "cell_type": "code",
      "execution_count": 76,
      "metadata": {
        "id": "dHzXHcU_elm8"
      },
      "outputs": [
        {
          "data": {
            "text/plain": [
              "6"
            ]
          },
          "execution_count": 76,
          "metadata": {},
          "output_type": "execute_result"
        }
      ],
      "source": [
        "#%% Q9. find out how many students missed at least one homework (0 point in a homework indicates missing)\n",
        "# suggested function to use: any(), sum()\n",
        "(grades[:, column_type == 2] < 1).sum(axis = 0)"
      ]
    },
    {
      "cell_type": "code",
      "execution_count": 87,
      "metadata": {
        "id": "a8n6OpON3dc7"
      },
      "outputs": [
        {
          "data": {
            "text/plain": [
              "42"
            ]
          },
          "execution_count": 87,
          "metadata": {},
          "output_type": "execute_result"
        }
      ],
      "source": [
        "#%% Q10. find out how many students did all quizzes (0 point in a quiz indictes missing)\n",
        "# suggested function to use: all(), sum()\n",
        "np.all(grades[:,column_type == 1] > 0,1).sum()"
      ]
    },
    {
      "cell_type": "code",
      "execution_count": 121,
      "metadata": {
        "id": "A9CpykD1fLgt"
      },
      "outputs": [
        {
          "data": {
            "text/plain": [
              "array([[ 0,  0],\n",
              "       [ 1,  2],\n",
              "       [ 2,  2],\n",
              "       [ 3,  0],\n",
              "       [ 3,  1],\n",
              "       [ 3,  2],\n",
              "       [ 4,  1],\n",
              "       [ 6,  1],\n",
              "       [11,  2],\n",
              "       [14,  2],\n",
              "       [24,  0],\n",
              "       [24,  1],\n",
              "       [29,  2],\n",
              "       [36,  2],\n",
              "       [37,  1],\n",
              "       [39,  1],\n",
              "       [57,  1],\n",
              "       [70,  1],\n",
              "       [84,  0],\n",
              "       [86,  1],\n",
              "       [99,  1]], dtype=int64)"
            ]
          },
          "execution_count": 121,
          "metadata": {},
          "output_type": "execute_result"
        }
      ],
      "source": [
        "#%% Q11. find out which students (row indices) had >= 88 points in two or more exams \n",
        "# suggested functions: sum, nonzero or where)\n",
        "np.argwhere(grades[:,column_type == 3] >= 88)"
      ]
    },
    {
      "cell_type": "code",
      "execution_count": 128,
      "metadata": {
        "id": "Sat9zBhBfLia"
      },
      "outputs": [
        {
          "data": {
            "text/plain": [
              "9.19"
            ]
          },
          "execution_count": 128,
          "metadata": {},
          "output_type": "execute_result"
        }
      ],
      "source": [
        "#%% Q12. find out, on average, how many quizzes each student participated\n",
        "# suggested functions: sum, mean\n",
        "np.count_nonzero(grades[:,column_type == 1] > 0, 1).mean()"
      ]
    },
    {
      "cell_type": "code",
      "execution_count": 190,
      "metadata": {
        "id": "VsoqJKJI16Cy"
      },
      "outputs": [
        {
          "data": {
            "text/plain": [
              "array([[49, 99, 17,  0, 99, 99,  0, 99, 99, 99, 99, 49,  0, 99,  0,  0,\n",
              "         0,  3,  3,  3],\n",
              "       [68, 67, 25, 58, 27, 23, 70, 67, 29, 27, 67, 67, 75, 27, 14, 29,\n",
              "        13,  0,  4, 29],\n",
              "       [59, 59, 35, 18, 61, 59, 68, 62, 60, 29, 64, 56, 11, 58, 74, 21,\n",
              "        47, 24, 57,  2],\n",
              "       [54, 58, 65, 70, 57, 57, 16, 57, 59, 31, 61, 55, 43, 57, 45, 22,\n",
              "        16, 84, 39, 14],\n",
              "       [52, 54, 64, 69, 55, 55, 65, 56, 57, 35, 57, 54, 70, 55, 72, 72,\n",
              "        71, 64, 37,  1]], dtype=int64)"
            ]
          },
          "execution_count": 190,
          "metadata": {},
          "output_type": "execute_result"
        }
      ],
      "source": [
        "#%% Q13.\t(5 points). Use the argsort function to find out the five students who have \n",
        "# the lowest scores and report their indices (between 0 and 99). \n",
        "# Also report their grades for the three exams.\n",
        "grades.argsort()[::-1][:5]\n"
      ]
    },
    {
      "cell_type": "code",
      "execution_count": 199,
      "metadata": {
        "id": "uD6Fr12sGRD9"
      },
      "outputs": [
        {
          "data": {
            "text/plain": [
              "Text(0.5, 1.0, 'Fig 1')"
            ]
          },
          "execution_count": 199,
          "metadata": {},
          "output_type": "execute_result"
        },
        {
          "data": {
            "image/png": "[encoded data removed]",
            "text/plain": [
              "<Figure size 640x480 with 1 Axes>"
            ]
          },
          "metadata": {},
          "output_type": "display_data"
        }
      ],
      "source": [
        "#%% Q14.\t(5 points) Generate a bar chart for the median score of each exam (3 bars). \n",
        "exams = [\"Midterm 1\",\"Midterm 2\",\"Midterm 3\"]\n",
        "median_exam = [np.median(grades[:,17]),np.median(grades[:,18]),np.median(grades[:,19])]\n",
        "xs = range(len(exams))\n",
        "plt.bar(xs,median_exam)\n",
        "plt.xticks(xs, exams)\n",
        "plt.ylabel(\"Median Score\")\n",
        "plt.title(\"Fig 1\")"
      ]
    },
    {
      "cell_type": "markdown",
      "metadata": {
        "id": "UAAu_Am4bil2"
      },
      "source": [
        "#### Your figure in Q14 shoud look like this: \n",
        "![hw2fig1.png](data:image/png;base64,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)"
      ]
    },
    {
      "cell_type": "code",
      "execution_count": 236,
      "metadata": {
        "id": "kh0SXzV8GXdi"
      },
      "outputs": [
        {
          "data": {
            "text/plain": [
              "Text(0, 0.5, 'Exam Average')"
            ]
          },
          "execution_count": 236,
          "metadata": {},
          "output_type": "execute_result"
        },
        {
          "data": {
            "image/png": "[encoded data removed]",
            "text/plain": [
              "<Figure size 640x480 with 1 Axes>"
            ]
          },
          "metadata": {},
          "output_type": "display_data"
        }
      ],
      "source": [
        "#%% Q15.\t(10 points) Scatter plot, for each student, their average quiz score against their average exam score. \n",
        "\n",
        "medians_quiz = np.array(np.mean(grades[:,column_type == 1],axis = 1))\n",
        "medians_exams = np.array( np.mean(grades[:,column_type == 3],axis = 1))\n",
        "plt.scatter(medians_quiz,medians_exams)\n",
        "plt.title(\"Fig 2\")\n",
        "plt.xlabel(\"Quiz Average\")\n",
        "plt.ylabel(\"Exam Average\")\n"
      ]
    },
    {
      "cell_type": "markdown",
      "metadata": {
        "id": "1ONeuWivbbj-"
      },
      "source": [
        "#### Your figure in Q15 shoud look like this\n",
        "\n",
        "![hw2fig2.png](data:image/png;base64,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)"
      ]
    },
    {
      "cell_type": "code",
      "execution_count": 244,
      "metadata": {
        "id": "MdoPVwcww-oy"
      },
      "outputs": [
        {
          "data": {
            "text/plain": [
              "Text(0, 0.5, 'Column Index')"
            ]
          },
          "execution_count": 244,
          "metadata": {},
          "output_type": "execute_result"
        },
        {
          "data": {
            "image/png": "[encoded data removed]",
            "text/plain": [
              "<Figure size 640x480 with 1 Axes>"
            ]
          },
          "metadata": {},
          "output_type": "display_data"
        }
      ],
      "source": [
        "#%% Q16 (10 points)\n",
        "# 1. Convert the raw scores in the gradebook to percentage: devide each column by its corresponding maximum possible score \n",
        "# and then multiply by 100.\n",
        "\n",
        "# The max score is 10 points for each quiz, 50 points for each homework, 100 for midterm 1 and final, and 105 for midterm 2. \n",
        "# These values are already stored in the numpy array below for your convenience. \n",
        "\n",
        "# 2. Plot the mean value of each column in a bar chart.\n",
        "\n",
        "# Suggested function: dot, diag, xticks\n",
        "\n",
        "max_possible = np.array([10]*10 + [50]*7 + [100, 105, 100])\n",
        "\n",
        "grades_perc = (grades / max_possible) * 100\n",
        "\n",
        "mean_perc = np.array(np.mean(grades_perc,axis =0))\n",
        "\n",
        "\n",
        "xs = range(len(mean_perc))\n",
        "plt.bar(xs,mean_perc)\n",
        "plt.title(\"Fig 3\")\n",
        "plt.xlabel(\"Mean Percentage Score\")\n",
        "plt.ylabel(\"Column Index\")"
      ]
    },
    {
      "cell_type": "markdown",
      "metadata": {
        "id": "G7Ej8Jx7cM2d"
      },
      "source": [
        "#### Your figure in Q16 shoud look like this:\n",
        "\n",
        "![hw2fig3.png](data:image/png;base64,iVBORw0KGgoAAAANSUhEUgAAAX4AAAEWCAYAAABhffzLAAAABHNCSVQICAgIfAhkiAAAAAlwSFlzAAALEgAACxIB0t1+/AAAADh0RVh0U29mdHdhcmUAbWF0cGxvdGxpYiB2ZXJzaW9uMy4yLjIsIGh0dHA6Ly9tYXRwbG90bGliLm9yZy+WH4yJAAAaiUlEQVR4nO3deZgeVZn38e+PQFjDEhLCEiARGJVFAoRNGEVlEFkE3mFknyhBZGR9dRQYfQVnYAbwdRt00ABCdDAsDggishhZZBFJYlhCRAIkkhggCEkICAnJPX/UaSmaXqo7fZ6nn67f57rq6qrz1HJXpXM/p0+dOqWIwMzM6mOVZgdgZmaN5cRvZlYzTvxmZjXjxG9mVjNO/GZmNePEb2ZWM078VpmkJZLe1aBjfVTSTxtxrHbHnS1p30Yft9VI2kfS3IrrnirpwtwxWXVO/PYOKfn9JSX6tmnTiFgnIp7uxf6GSbpP0p8lLZT0gKS9utnsfOCC0j5C0tY9PXazpWs5qtlxNNmlwDGSNmp2IFZw4rfOHJwSfdv0p5XY1xLgeGA4sAFwIfAzSat2tLKkXYH1IuI3K3HMpurs3OooIl4HfgH8Y7NjsYITv1VWrnVL2lDSzyQtlvSQpPMk3dvRdhHxekQ8ERErAAHLKb4AhnZyqI8Bd5eOe0+afTj99XFEKj9I0vT0V8T9kt5X2uYsSU9JekXS45IOa3cun5Y0s/T5zqWPx0h6RNIiSddIWqO0XVfHnC3pTEmPAK+2T/6SDkjHekXSPEn/3Mn5I+n4FN/Lkm6TtGUqP1PSg237lvRPkma0xSjpOknPpdjvkbRdaZ9XSvovSb9I1/E+SRtL+lY6zu8l7dTufM5OMb8s6YrytWgX76aS/kfSAknPSDqt3Sp3AQd2dr7WYBHhydPbJmA2sG8H5QFsneavTtNawLbAs8C93ez3EWBp2s+lXax3HfCFzo6dlncCXgB2BwYB41Lcq6fP/wHYlKJycwTwKrBJ6bN5wK4UX0RbA1uWzv23aduhwEzgpIrHnA1MBzYH1uzgvOYDf5vmNwB27uT8DwFmAe8FVgW+DNyfPlsFuAc4F9gGeBnYqbTt8cAQYHXgW8D00mdXAi8CuwBrAL8CnqGoiQ8CzgPubPd78Fg6n6HAfcB56bN9gLmlmKYCXwEGA+8CngY+WtrXzsBLzf7d9pT+PZodgKf+N6X/8EuAhWn6aSqPlCQHAcuAd5e2OY9uEn9abw3gKGBcF+vc0ZZsS2XtE/8lwL+1W+cJ4IOd7HM6cEiavw04vYtzP7a0fBHwvSrHTNse38V5/RH4DLBuN9foF8D40vIqwGu89eU0CniJ4kvp7C72s366buul5SspfeECpwIzS8s7AAvbXYuTSssHAE+l+XLi3x34Y7tjnw1cUVreBlje7N9tT8Xkph7rzKERsX6aDm332XCKmuizpbJnqSCKZp9JwFmSduxktZcpaq1d2RL4fGpyWShpIUXNdFMASf9YapJZCGwPDEvbbg481cW+nyvNvwasU+WYSVfX4e8pkuccSXdL2rOLc/t26RgvUfxlshlARMwG7qT4Avhu20aSBkm6IDVxLaZI3PDWeQM8X5r/SwfL6/B25fOZw9vPtRzvpu2uy78AI0rrDAEWdXK+1mBO/NYbC4A3gZGlss17uI/VKJoEOvII8DfdbP8scH7py2n9iFgrIial9vBLgVOADSNifYomC5W23aqH8XZ5zNI6nQ53GxEPRcQhwEbAT4FruzjOZ9odZ82IuB9A0oHAnsBk4Gul7Y6maCbaF1iP4osB3jrv3ij/u24BdHST/1ngmXbxDomIA0rrvBd4eCXisD7kxG89FhHLgeuBcyWtJek9dNFjQ9IekvaWNFjSmpLOpKgNPtjJJrcAH2xX9jxv/6K4FDhJ0u4qrC3pQElDgLUpEvCCdPxPUdT421wG/LOkXdK2W7fdPO1GV8fsUjr3YyStFxHLgMXAik5W/x5wdtuNWUnrSfqHND8sxX8CxT2GgyW1JdghwBvAnynuvfx7hXPqzsmSRkoaCnwJuKaDdX4LvJJuPK+Z/vLYXkXvrDYfpGjCsn7Aid966xSKWuVzwI+ASRRJpyOrUzRJ/JnipuoBwIHRSRfRiJgGLJK0e6n4XGBiakr4RERMAT4NfIeiaWgW8Mm0/ePA14EHKL4wdqC4Mdm2/+sonhP4MfAKRe27sx5G5bg6PWZFxwGzUzPMScAxnRznBoour1endR+j6OkEMAG4MSJuiYg/A+OByyRtCPyQojlmHvA40BfdYX8M3E5xs/Ypins57eNdDhwEjKG4WfwixZfTegCpJ9ABwMQ+iMf6gCL8IhZbeSqezNw4Isb10f72Az7bwf0FaxBJs4ETIuKXK7mfU4HNI+KLfRKYrTQ/ZGK9kpp3BgOPUnSLHE/R/NAnIuJ2ipqmtbiIuLjZMdjbOfFbbw2haN7ZlKI55evAjU2NyMwqcVOPmVnN+OaumVnNtERTz7Bhw2LUqFHNDsPMrKVMnTr1xYgY3r68JRL/qFGjmDJlSrPDMDNrKZLmdFTuph4zs5px4jczqxknfjOzmnHiNzOrGSd+M7OaceI3M6sZJ34zs5px4jczqxknfjOzmmmJJ3fNLI9RZ/28R+vPvuDATJFYI7nGb2ZWM078ZmY148RvZlYzTvxmZjXjxG9mVjPu1WPWZO5Z03O+ZivHid+sxbVqEmzVuAcCN/WYmdWMa/xm1is9rbGDa+39hWv8ZmY148RvZlYzTvxmZjXjxG9mVjO+uWvGyt+odNdEayWu8ZuZ1YwTv5lZzTjxm5nVjBO/mVnNOPGbmdWMe/UMUO5lYmadcY3fzKxmXOO3AcN/5ZhVk7XGL+n/Spoh6TFJkyStIWm0pAclzZJ0jaTBOWMwM7O3y5b4JW0GnAaMjYjtgUHAkcCFwDcjYmvgZWB8rhjMzOydcrfxrwqsKWlVYC1gPvBh4Cfp84nAoZljMDOzkmxt/BExT9L/B/4I/AW4HZgKLIyIN9Nqc4HNOtpe0onAiQBbbLFFr+No1XbfVo3bzPq/bIlf0gbAIcBoYCFwHbB/1e0jYgIwAWDs2LGRI0bre34rk1n/l7NXz77AMxGxAEDS9cBewPqSVk21/pHAvIwxNJVr7WbWH+VM/H8E9pC0FkVTz0eAKcCdwOHA1cA44MaMMawU117NbCDKdnM3Ih6kuIk7DXg0HWsCcCbwOUmzgA2By3PFYGZm75T1Aa6IOAc4p13x08BuOY9rZmad85O7ZmYN0l/u+3msHjOzmnHiNzOrGTf1mJn1QH9prlkZTvzWrwyE/1TWv7mbtpt6zMxqx4nfzKxmnPjNzGrGid/MrGYqJX5Je0v6VJofLml03rDMzCyXbhO/pHMoxtc5OxWtBvx3zqDMzCyfKjX+w4CPA68CRMSfgCE5gzIzs3yqJP6lERFAAEhaO29IZmaWU5XEf62k71O8QOXTwC+BS/OGZWZmuXT55K4kAdcA7wEWA+8GvhIRdzQgNmsSPz1rNrB1mfgjIiTdEhE7AE72ZmYDQJWmnmmSds0eiZmZNUSVQdp2B46RNIeiZ48o/hh4X9bIzMwsiyqJ/6PZozAzs4bptqknIuYA6wMHp2n9VGZmZi2oypO7pwNXARul6b8lnZo7MDMzy6NKU894YPeIeBVA0oXAA8DFOQMzM7M8qvTqEbC8tLw8lZmZWQuqUuO/AnhQ0g1p+VDg8nwhmZlZTt0m/oj4hqS7gL1T0aci4ndZozIzs2y6TfyS9gBmRMS0tLyupN0j4sHs0ZmZWZ+r0sZ/CbCktLwklZmZWQuqdHM3DcsMQESsoNq9ATMz64eqJP6nJZ0mabU0nQ48nTswMzPLo0riPwl4PzAPmEsxds+JOYMyM7N8qvTqeQE4sgGxmJlZA1QZsuGi1JNnNUmTJS2QdGwjgjMzs75Xpalnv4hYDBwEzAa2Br6QMygzM8unSuJvaw46ELguIhZljMfMzDKr0i3zZkm/B/4C/JOk4cDrecMyM7NcqozHfxZFr56xEbEMeA04JHdgZmaWR5WmHiLipYhYnuZfjYjnqmwnaX1JP5H0e0kzJe0paaikOyQ9mX5usDInYGZmPVMp8a+EbwO3RsR7gB2BmcBZwOSI2AaYnJbNzKxBsiV+SesBHyAN4RwRSyNiIUUz0cS02kSKYZ7NzKxBqvTjl6RjJX0lLW8habcK+x4NLACukPQ7SZdJWhsYERHz0zrPASM6Oe6JkqZImrJgwYJqZ2NmZt2qUuP/L2BP4Ki0/Arw3QrbrQrsDFwSETsBr9KuWScN/hYdbEtETIiIsRExdvjw4RUOZ2ZmVVRJ/LtHxMmkLpwR8TIwuMJ2c4G5pXH7f0LxRfC8pE0A0s8Xehy1mZn1WpXEv0zSIFLNPPXjX9HdRqnnz7OS3p2KPgI8DtwEjEtl44Abexq0mZn1XpUHuP4TuAHYSNL5wOHAlyvu/1TgKkmDKYZy/hTFl821ksYDc4BP9DhqMzPrtSqjc14laSpFjV3AoRExs8rOI2I6MLaDjz7SoyjNzKzPVHnn7lCKdvhJpbLV0lO8ZmbWYqq08U+j6Jb5B+DJND9b0jRJu+QMzszM+l6VxH8HcEBEDIuIDYGPATcDn6Xo6mlmZi2kSuLfIyJua1uIiNuBPSPiN8Dq2SIzM7MsqvTqmS/pTODqtHwERV/8QVTo1mlmZv1LlRr/0cBI4Kdp2iKVDcJdMc3MWk6V7pwvUvTH78isvg3HzMxyq9KdczjwRWA7YI228oj4cMa4zMwskypNPVcBv6cYbfOrFC9cfyhjTGZmllGVxL9hRFwOLIuIuyPieMC1fTOzFlWlV0/bE7rzJR0I/AkYmi8kMzPLqUriPy+9TevzwMXAusAZWaMyM7NsqiT+lyNiEbAI+BCApL2yRmVmZtlUaeO/uGKZmZm1gE5r/JL2BN4PDJf0udJH61I8vGVmZi2oq6aewcA6aZ0hpfLFFC9jMTOzFtRp4o+Iu4G7JV0ZEXMaGJOZmWVU5ebu6pImAKPK6/vJXTOz1lQl8V8HfA+4DFieNxwzM8utSuJ/MyIuyR6JmZk1RJXunD+T9FlJm0ga2jZlj8zMzLKoUuMfl35+oVQWwLv6PhwzM8utynj8oxsRiJmZNUa3TT2S1pL05dSzB0nbSDoof2hmZpZDlTb+K4ClFE/xAswDzssWkZmZZVUl8W8VEReRhmeOiNcAZY3KzMyyqZL4l0pak+KGLpK2At7IGpWZmWVTpVfPOcCtwOaSrgL2Aj6ZMygzM8unSq+eOyRNA/agaOI5PSJezB6ZmZllUaVXz2EUT+/+PCJuBt6UdGj+0MzMLIcqbfznpDdwARARCymaf8zMrAVVSfwdrVPl3oCZmfVDVRL/FEnfkLRVmr4BTM0dmJmZ5VEl8Z9K8QDXNcDVwOvAyTmDMjOzfLpsspE0CLg5Ij7UoHjMzCyzLmv8EbEcWCFpvQbFY2ZmmVW5SbsEeFTSHcCrbYURcVqVA6S/GqYA8yLiIEmjKZqMNqS4V3BcRCztceRmZtYrVdr4rwf+H3APRaJum6o6HZhZWr4Q+GZEbA28DIzvwb7MzGwlVXlyd2Iaq2eLiHiiJzuXNBI4EDgf+JwkAR8Gjk6rTATOBfxqRzOzBqny5O7BwHSK8XqQNEbSTRX3/y3gi8CKtLwhsDAi3kzLc4HNOjnuiZKmSJqyYMGCioczM7PuVGnqORfYDVgIEBHTqfDaxfSylhciold9/iNiQkSMjYixw4cP780uzMysA1Vu7i6LiEVFK81frehs5ZK9gI9LOgBYA1gX+DawvqRVU61/JMWLXczMrEGq1PhnSDoaGJReu3gxcH93G0XE2RExMiJGAUcCv4qIY4A7gcPTauOAG3sXupmZ9UbVJ3e3o3j5yiRgMXDGShzzTIobvbMo2vwvX4l9mZlZD1Xp1fMa8CVJFxaL8UpPDxIRdwF3pfmnKe4ZmJlZE1Tp1bOrpEeBRyge5HpY0i75QzMzsxyq3Ny9HPhsRPwaQNLewBXA+3IGZmZmeVRp41/elvQBIuJe4M0u1jczs36sSo3/bknfp7ixG8ARwF2SdgaIiGkZ4zMzsz5WJfHvmH62f93iThRfBB/u04jMzCyrKr16PBa/mdkAUqWN38zMBhAnfjOzmnHiNzOrmSo3d5H0fmBUef2I+GGmmMzMLKNuE7+kHwFbUYzJvzwVB+DEb2bWgqrU+McC20ZE5A7GzMzyq9LG/xiwce5AzMysMarU+IcBj0v6LcXQzABExMezRWVmZtlUSfzn5g7CzMwap8qTu3c3IhAzM2uMKuPx7yHpIUlLJC2VtFzS4kYEZ2Zmfa/Kzd3vAEcBTwJrAicA380ZlJmZ5VPpyd2ImAUMiojlEXEFsH/esMzMLJcqN3dfkzQYmC7pImA+HurBzKxlVUngx6X1TgFeBTYH/j5nUGZmlk+VXj1zJK0JbBIRX21ATGZmllGVXj0HU4zTc2taHiPpptyBmZlZHlWaes4FdgMWAkTEdGB0xpjMzCyjKol/WUQsalfmAdvMzFpUlV49MyQdDQyStA1wGnB/3rDMzCyXKjX+U4HtKAZomwQsBs7IGZSZmeVTpVfPa8CX0mRmZi2u08TfXc8dD8tsZtaauqrx7wk8S9G88yCghkRkZmZZdZX4Nwb+jmKAtqOBnwOTImJGIwIzM7M8Or25mwZkuzUixgF7ALOAuySd0rDozMysz3V5c1fS6sCBFLX+UcB/AjfkD8vMzHLp6ubuD4HtgVuAr0bEYw2LyszMsumqxn8sxWicpwOnSX+9tysgImLdzLGZmVkGnSb+iPCY+2ZmA1C25C5pc0l3Snpc0gxJp6fyoZLukPRk+rlBrhjMzOydctbq3wQ+HxHbUvQKOlnStsBZwOSI2AaYnJbNzKxBsiX+iJgfEdPS/CvATGAz4BBgYlptInBorhjMzOydGtKOL2kUsBPFE8AjImJ++ug5YEQjYjAzs0L2xC9pHeB/gDMiYnH5s4gIOhnbX9KJkqZImrJgwYLcYZqZ1UbWxC9pNYqkf1VEXJ+Kn5e0Sfp8E+CFjraNiAkRMTYixg4fPjxnmGZmtZKzV4+Ay4GZEfGN0kc3AePS/DjgxlwxmJnZO1V5A1dv7QUcBzwqaXoq+xfgAuBaSeOBOcAnMsZgZmbtZEv8EXEvnQ/l/JFcxzUzs6756Vwzs5px4jczqxknfjOzmnHiNzOrGSd+M7OaceI3M6sZJ34zs5px4jczqxknfjOzmnHiNzOrGSd+M7OaceI3M6sZJ34zs5px4jczqxknfjOzmnHiNzOrGSd+M7OaceI3M6sZJ34zs5px4jczqxknfjOzmnHiNzOrGSd+M7OaceI3M6sZJ34zs5px4jczqxknfjOzmnHiNzOrGSd+M7OaceI3M6sZJ34zs5px4jczqxknfjOzmnHiNzOrGSd+M7OaceI3M6sZJ34zs5ppSuKXtL+kJyTNknRWM2IwM6urhid+SYOA7wIfA7YFjpK0baPjMDOrq2bU+HcDZkXE0xGxFLgaOKQJcZiZ1ZIiorEHlA4H9o+IE9LyccDuEXFKu/VOBE5Mi+8GnujjUIYBL/bxPgc6X7Oe8zXrOV+zvrNlRAxvX7hqMyKpIiImABNy7V/SlIgYm2v/A5GvWc/5mvWcr1l+zWjqmQdsXloemcrMzKwBmpH4HwK2kTRa0mDgSOCmJsRhZlZLDW/qiYg3JZ0C3AYMAn4QETMaHQcZm5EGMF+znvM16zlfs8wafnPXzMyay0/umpnVjBO/mVnN1DLxe8iInpM0W9KjkqZLmtLsePojST+Q9IKkx0plQyXdIenJ9HODZsbY33Ryzc6VNC/9rk2XdEAzYxyIapf4PWTESvlQRIxxH+tOXQns367sLGByRGwDTE7L9pYreec1A/hm+l0bExG3NDimAa92iR8PGWGZRMQ9wEvtig8BJqb5icChDQ2qn+vkmllmdUz8mwHPlpbnpjLrWgC3S5qahtOwakZExPw0/xwwopnBtJBTJD2SmoLcPNbH6pj4rXf2joidKZrITpb0gWYH1Gqi6Dvt/tPduwTYChgDzAe+3txwBp46Jn4PGdELETEv/XwBuIGiycy697ykTQDSzxeaHE+/FxHPR8TyiFgBXIp/1/pcHRO/h4zoIUlrSxrSNg/sBzzW9VaW3ASMS/PjgBubGEtLaPuiTA7Dv2t9rt+OzplLPxoyopWMAG6QBMXvzI8j4tbmhtT/SJoE7AMMkzQXOAe4ALhW0nhgDvCJ5kXY/3RyzfaRNIaiWWw28JmmBThAecgGM7OaqWNTj5lZrTnxm5nVjBO/mVnNOPGbmdWME7+ZWc048VvLkrSxpKslPZWGkrhF0t90sf6o8iiQDYrxsp4OAihpSa54zKCG/fhtYFDxUMENwMSIODKV7UjxzMEfmhlbWUSc0OwYzNpzjd9a1YeAZRHxvbaCiHg4In6twtckPZbeIXBE+40lfVLSd0rLN0vaJ80vSdvPkPRLSbtJukvS05I+Xtr+ekm3prH2L+ooyLTd2NJ+z5f0sKTfSBqRykdLeiDFel677b8g6aE0YNlXU9lhkian89xE0h8kbbyyF9Tqw4nfWtX2wNROPvs/FAN87QjsC3yt3TAA3Vkb+FVEbAe8ApwH/B3F8AH/WlpvDHAEsANwhKTN2++og/3+JiJ2BO4BPp3Kvw1cEhE7UAxKBoCk/YBtKMaqGQPsIukDEXFDWu9kirFszomI53pwflZzTvw2EO0NTEoDfT0P3A3s2oPtlwJtQ1I8CtwdEcvS/KjSepMjYlFEvA48DmxZYb83p/mppX3tBUxK8z8qrb9fmn4HTAPeQ/FFAHAqcDbwRkRMwqwH3MZvrWoGcPhKbP8mb6/4rFGaXxZvjWWyAngDICJWSCr/n3mjNL+c7v8/lffbfv2Oxk4R8B8R8f0OPhuZYhshaZU0kqVZJa7xW6v6FbB6+aUwkt4n6W+BX1M0vQySNBz4APDbdtvPBsZIWiU10TRz6N/7KEaJBTimVH4bcLykdQAkbSZpo/Tl8wPgKGAm8LlGBmutzzV+a0kREZIOA74l6UzgdYpkfgZwL7An8DBFTfqLEfGcpFGlXdwHPEPRRDOToimlWU4HfpzO46/DNkfE7ZLeCzyQRkZdAhwLnAT8OiLulfQw8JCkn0fEzCbEbi3Io3OamdWMm3rMzGrGid/MrGac+M3MasaJ38ysZpz4zcxqxonfzKxmnPjNzGrmfwEO8UmXJdZF6QAAAABJRU5ErkJggg==)"
      ]
    },
    {
      "cell_type": "code",
      "execution_count": 299,
      "metadata": {
        "colab": {
          "base_uri": "https://localhost:8080/"
        },
        "id": "0vrThvAHGZUo",
        "outputId": "0f089968-05bc-4d8f-ac57-350bc1c375c0"
      },
      "outputs": [
        {
          "name": "stdout",
          "output_type": "stream",
          "text": [
            "Statistics  for final grade:\n",
            "\t max:  93.63095238095238\n",
            "\t min:  57.733333333333334\n",
            "\t median:  82.62142857142857\n",
            "\t mean:  81.05835714285713\n",
            "\t std:  7.651427174797163\n"
          ]
        }
      ],
      "source": [
        "#%% Q17.\t(10 points) Use the converted percentage score above, compute a final weighted average score for each student: \n",
        "# each quiz counts 2%, each hw counts 5%, exam 1 counts 15%, exam 2 counts 10% each, and the final exam counts 20%. \n",
        "# Round the final score to the nearest integer. \n",
        "# Report the following statistics for the final scores: max, min, median, mean, standard deviation.\n",
        "\n",
        "# suggested functions: dot, round, std\n",
        "\n",
        "hw_array = np.array(np.mean(grades_perc[:,column_type == 2],axis = 1) * .35)\n",
        "quiz_array = np.array(np.mean(grades_perc[:,column_type == 1],axis = 1) * .20)\n",
        "\n",
        "\n",
        "e1_array = np.array(grades_perc[:,17] * .15)\n",
        "e2_array = np.array(grades_perc[:,18] * .10)\n",
        "e3_array =np.array(grades_perc[:,19] * .20)\n",
        "array_total = np.array(hw_array + quiz_array + e1_array + e2_array+ e3_array)\n",
        "\n",
        "\n",
        "print('Statistics  for final grade:')\n",
        "print('\\t max: ', array_total.max())\n",
        "print('\\t min: ' ,array_total.min())\n",
        "print('\\t median: ',np.median(array_total) )\n",
        "print('\\t mean: ' ,array_total.mean())\n",
        "print('\\t std: ' ,array_total.std())\n"
      ]
    },
    {
      "cell_type": "code",
      "execution_count": 315,
      "metadata": {
        "id": "BexmuunvGaVR"
      },
      "outputs": [
        {
          "data": {
            "image/png": "[encoded data removed]",
            "text/plain": [
              "<Figure size 640x480 with 1 Axes>"
            ]
          },
          "metadata": {},
          "output_type": "display_data"
        }
      ],
      "source": [
        "#%% Q18.\t(10 points) Count the number students whose final score is in the following range: < 60; >=60 and < 70, >=70 and < 80, >=80 and < 90, and >= 90, and plot the counts as a bar chart.\n",
        "\n",
        "groups = [\"[90,100]\",\"[90,80]\",\"[70,80]\",\"[60,70]\",\"<60\"]\n",
        "\n",
        "count1 = ((90 <= array_total) & (array_total < 100)).sum()\n",
        "count2 = ((80 <= array_total) & (array_total < 90)).sum()\n",
        "count3= ((70 <= array_total) & (array_total < 80)).sum()\n",
        "count4= ((60 <= array_total) & (array_total <70)).sum()\n",
        "count5 = ((array_total < 60)).sum()\n",
        "\n",
        "counts = np.array([count1,count2,count3,count4,count5])\n",
        "plt.barh(groups,counts)\n",
        "plt.gca().invert_yaxis()\n",
        "plt.title(\"Fig 4\")\n",
        "plt.xlabel(\"Number of Students\")\n",
        "plt.ylabel(\"Final Score\")\n"
      ]
    },
    {
      "cell_type": "markdown",
      "metadata": {
        "id": "odgy0QA2cXSv"
      },
      "source": [
        "#### Your figure in Q18 shoud look like this: \n",
        "\n",
        "![hw2fig4.png](data:image/png;base64,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)"
      ]
    }
  ],
  "metadata": {
    "colab": {
      "provenance": []
    },
    "interpreter": {
      "hash": "15c18549d46ee90aa40bdfc1468028645b52d2cab3e68ace773a37ac19e0e048"
    },
    "kernelspec": {
      "display_name": "Python 3.9.0 64-bit",
      "language": "python",
      "name": "python3"
    },
    "language_info": {
      "codemirror_mode": {
        "name": "ipython",
        "version": 3
      },
      "file_extension": ".py",
      "mimetype": "text/x-python",
      "name": "python",
      "nbconvert_exporter": "python",
      "pygments_lexer": "ipython3",
      "version": "3.9.0"
    }
  },
  "nbformat": 4,
  "nbformat_minor": 0
}
