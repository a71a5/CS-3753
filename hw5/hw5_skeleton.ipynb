{
  "cells": [
    {
      "cell_type": "markdown",
      "metadata": {
        "id": "K91z1GUthlDS"
      },
      "source": [
        "# HW5 Pandas, Linear Regression (100 + 15 points)"
      ]
    },
    {
      "cell_type": "code",
      "execution_count": 1,
      "metadata": {
        "id": "2mvPDyqDi4Bk"
      },
      "outputs": [],
      "source": [
        "# import necessary modules for the homework. \n",
        "# Additional modules can imported if needed.\n",
        "\n",
        "import matplotlib.pyplot as plt\n",
        "import numpy as np\n",
        "import pandas as pd\n",
        "import scipy.stats \n",
        "import sklearn.linear_model as lm\n",
        "from sklearn.metrics import r2_score as r2\n",
        "from sklearn.metrics import mean_squared_error as mse"
      ]
    },
    {
      "cell_type": "markdown",
      "metadata": {
        "id": "EvL9lBzMVCGo"
      },
      "source": [
        "## Q1. Pandas plots, probability models (30 pts - 3 pts each question)"
      ]
    },
    {
      "cell_type": "markdown",
      "metadata": {
        "id": "sQ5hGu1Oi4Bs"
      },
      "source": [
        "### Q1.1 Use pandas to load hw5q1.xlsx file (locally or from github) into a dataframe. The first line in the excel file is column header, and the excel file does not have any column as row index. Show the shape of the data frame and verify that your dataframe has 1000 rows and 4 columns.*italicized text*"
      ]
    },
    {
      "cell_type": "code",
      "execution_count": 54,
      "metadata": {
        "id": "hjMzPPB2i4Bt"
      },
      "outputs": [
        {
          "data": {
            "text/plain": [
              "(1000, 4)"
            ]
          },
          "execution_count": 54,
          "metadata": {},
          "output_type": "execute_result"
        }
      ],
      "source": [
        "url='hw5q1.xlsx'\n",
        "data_table = pd.read_excel(url,header=0)\n",
        "data_table.shape"
      ]
    },
    {
      "cell_type": "markdown",
      "metadata": {
        "id": "5ZR3oU_-DeT0"
      },
      "source": [
        "### Q1.2 Show the column labels of the data frame"
      ]
    },
    {
      "cell_type": "code",
      "execution_count": 55,
      "metadata": {
        "id": "cDaR-iVKDrx1"
      },
      "outputs": [
        {
          "data": {
            "text/plain": [
              "['a', 'b', 'c', 'd']"
            ]
          },
          "execution_count": 55,
          "metadata": {},
          "output_type": "execute_result"
        }
      ],
      "source": [
        "list(data_table.columns)"
      ]
    },
    {
      "cell_type": "markdown",
      "metadata": {
        "id": "-jNJsDQvDvDp"
      },
      "source": [
        "### Q1.3 Show the row index of the data frame"
      ]
    },
    {
      "cell_type": "code",
      "execution_count": 56,
      "metadata": {
        "id": "i_wFTP_FD2gk"
      },
      "outputs": [
        {
          "data": {
            "text/plain": [
              "[0,\n",
              " 1,\n",
              " 2,\n",
              " 3,\n",
              " 4,\n",
              " 5,\n",
              " 6,\n",
              " 7,\n",
              " 8,\n",
              " 9,\n",
              " 10,\n",
              " 11,\n",
              " 12,\n",
              " 13,\n",
              " 14,\n",
              " 15,\n",
              " 16,\n",
              " 17,\n",
              " 18,\n",
              " 19,\n",
              " 20,\n",
              " 21,\n",
              " 22,\n",
              " 23,\n",
              " 24,\n",
              " 25,\n",
              " 26,\n",
              " 27,\n",
              " 28,\n",
              " 29,\n",
              " 30,\n",
              " 31,\n",
              " 32,\n",
              " 33,\n",
              " 34,\n",
              " 35,\n",
              " 36,\n",
              " 37,\n",
              " 38,\n",
              " 39,\n",
              " 40,\n",
              " 41,\n",
              " 42,\n",
              " 43,\n",
              " 44,\n",
              " 45,\n",
              " 46,\n",
              " 47,\n",
              " 48,\n",
              " 49,\n",
              " 50,\n",
              " 51,\n",
              " 52,\n",
              " 53,\n",
              " 54,\n",
              " 55,\n",
              " 56,\n",
              " 57,\n",
              " 58,\n",
              " 59,\n",
              " 60,\n",
              " 61,\n",
              " 62,\n",
              " 63,\n",
              " 64,\n",
              " 65,\n",
              " 66,\n",
              " 67,\n",
              " 68,\n",
              " 69,\n",
              " 70,\n",
              " 71,\n",
              " 72,\n",
              " 73,\n",
              " 74,\n",
              " 75,\n",
              " 76,\n",
              " 77,\n",
              " 78,\n",
              " 79,\n",
              " 80,\n",
              " 81,\n",
              " 82,\n",
              " 83,\n",
              " 84,\n",
              " 85,\n",
              " 86,\n",
              " 87,\n",
              " 88,\n",
              " 89,\n",
              " 90,\n",
              " 91,\n",
              " 92,\n",
              " 93,\n",
              " 94,\n",
              " 95,\n",
              " 96,\n",
              " 97,\n",
              " 98,\n",
              " 99,\n",
              " 100,\n",
              " 101,\n",
              " 102,\n",
              " 103,\n",
              " 104,\n",
              " 105,\n",
              " 106,\n",
              " 107,\n",
              " 108,\n",
              " 109,\n",
              " 110,\n",
              " 111,\n",
              " 112,\n",
              " 113,\n",
              " 114,\n",
              " 115,\n",
              " 116,\n",
              " 117,\n",
              " 118,\n",
              " 119,\n",
              " 120,\n",
              " 121,\n",
              " 122,\n",
              " 123,\n",
              " 124,\n",
              " 125,\n",
              " 126,\n",
              " 127,\n",
              " 128,\n",
              " 129,\n",
              " 130,\n",
              " 131,\n",
              " 132,\n",
              " 133,\n",
              " 134,\n",
              " 135,\n",
              " 136,\n",
              " 137,\n",
              " 138,\n",
              " 139,\n",
              " 140,\n",
              " 141,\n",
              " 142,\n",
              " 143,\n",
              " 144,\n",
              " 145,\n",
              " 146,\n",
              " 147,\n",
              " 148,\n",
              " 149,\n",
              " 150,\n",
              " 151,\n",
              " 152,\n",
              " 153,\n",
              " 154,\n",
              " 155,\n",
              " 156,\n",
              " 157,\n",
              " 158,\n",
              " 159,\n",
              " 160,\n",
              " 161,\n",
              " 162,\n",
              " 163,\n",
              " 164,\n",
              " 165,\n",
              " 166,\n",
              " 167,\n",
              " 168,\n",
              " 169,\n",
              " 170,\n",
              " 171,\n",
              " 172,\n",
              " 173,\n",
              " 174,\n",
              " 175,\n",
              " 176,\n",
              " 177,\n",
              " 178,\n",
              " 179,\n",
              " 180,\n",
              " 181,\n",
              " 182,\n",
              " 183,\n",
              " 184,\n",
              " 185,\n",
              " 186,\n",
              " 187,\n",
              " 188,\n",
              " 189,\n",
              " 190,\n",
              " 191,\n",
              " 192,\n",
              " 193,\n",
              " 194,\n",
              " 195,\n",
              " 196,\n",
              " 197,\n",
              " 198,\n",
              " 199,\n",
              " 200,\n",
              " 201,\n",
              " 202,\n",
              " 203,\n",
              " 204,\n",
              " 205,\n",
              " 206,\n",
              " 207,\n",
              " 208,\n",
              " 209,\n",
              " 210,\n",
              " 211,\n",
              " 212,\n",
              " 213,\n",
              " 214,\n",
              " 215,\n",
              " 216,\n",
              " 217,\n",
              " 218,\n",
              " 219,\n",
              " 220,\n",
              " 221,\n",
              " 222,\n",
              " 223,\n",
              " 224,\n",
              " 225,\n",
              " 226,\n",
              " 227,\n",
              " 228,\n",
              " 229,\n",
              " 230,\n",
              " 231,\n",
              " 232,\n",
              " 233,\n",
              " 234,\n",
              " 235,\n",
              " 236,\n",
              " 237,\n",
              " 238,\n",
              " 239,\n",
              " 240,\n",
              " 241,\n",
              " 242,\n",
              " 243,\n",
              " 244,\n",
              " 245,\n",
              " 246,\n",
              " 247,\n",
              " 248,\n",
              " 249,\n",
              " 250,\n",
              " 251,\n",
              " 252,\n",
              " 253,\n",
              " 254,\n",
              " 255,\n",
              " 256,\n",
              " 257,\n",
              " 258,\n",
              " 259,\n",
              " 260,\n",
              " 261,\n",
              " 262,\n",
              " 263,\n",
              " 264,\n",
              " 265,\n",
              " 266,\n",
              " 267,\n",
              " 268,\n",
              " 269,\n",
              " 270,\n",
              " 271,\n",
              " 272,\n",
              " 273,\n",
              " 274,\n",
              " 275,\n",
              " 276,\n",
              " 277,\n",
              " 278,\n",
              " 279,\n",
              " 280,\n",
              " 281,\n",
              " 282,\n",
              " 283,\n",
              " 284,\n",
              " 285,\n",
              " 286,\n",
              " 287,\n",
              " 288,\n",
              " 289,\n",
              " 290,\n",
              " 291,\n",
              " 292,\n",
              " 293,\n",
              " 294,\n",
              " 295,\n",
              " 296,\n",
              " 297,\n",
              " 298,\n",
              " 299,\n",
              " 300,\n",
              " 301,\n",
              " 302,\n",
              " 303,\n",
              " 304,\n",
              " 305,\n",
              " 306,\n",
              " 307,\n",
              " 308,\n",
              " 309,\n",
              " 310,\n",
              " 311,\n",
              " 312,\n",
              " 313,\n",
              " 314,\n",
              " 315,\n",
              " 316,\n",
              " 317,\n",
              " 318,\n",
              " 319,\n",
              " 320,\n",
              " 321,\n",
              " 322,\n",
              " 323,\n",
              " 324,\n",
              " 325,\n",
              " 326,\n",
              " 327,\n",
              " 328,\n",
              " 329,\n",
              " 330,\n",
              " 331,\n",
              " 332,\n",
              " 333,\n",
              " 334,\n",
              " 335,\n",
              " 336,\n",
              " 337,\n",
              " 338,\n",
              " 339,\n",
              " 340,\n",
              " 341,\n",
              " 342,\n",
              " 343,\n",
              " 344,\n",
              " 345,\n",
              " 346,\n",
              " 347,\n",
              " 348,\n",
              " 349,\n",
              " 350,\n",
              " 351,\n",
              " 352,\n",
              " 353,\n",
              " 354,\n",
              " 355,\n",
              " 356,\n",
              " 357,\n",
              " 358,\n",
              " 359,\n",
              " 360,\n",
              " 361,\n",
              " 362,\n",
              " 363,\n",
              " 364,\n",
              " 365,\n",
              " 366,\n",
              " 367,\n",
              " 368,\n",
              " 369,\n",
              " 370,\n",
              " 371,\n",
              " 372,\n",
              " 373,\n",
              " 374,\n",
              " 375,\n",
              " 376,\n",
              " 377,\n",
              " 378,\n",
              " 379,\n",
              " 380,\n",
              " 381,\n",
              " 382,\n",
              " 383,\n",
              " 384,\n",
              " 385,\n",
              " 386,\n",
              " 387,\n",
              " 388,\n",
              " 389,\n",
              " 390,\n",
              " 391,\n",
              " 392,\n",
              " 393,\n",
              " 394,\n",
              " 395,\n",
              " 396,\n",
              " 397,\n",
              " 398,\n",
              " 399,\n",
              " 400,\n",
              " 401,\n",
              " 402,\n",
              " 403,\n",
              " 404,\n",
              " 405,\n",
              " 406,\n",
              " 407,\n",
              " 408,\n",
              " 409,\n",
              " 410,\n",
              " 411,\n",
              " 412,\n",
              " 413,\n",
              " 414,\n",
              " 415,\n",
              " 416,\n",
              " 417,\n",
              " 418,\n",
              " 419,\n",
              " 420,\n",
              " 421,\n",
              " 422,\n",
              " 423,\n",
              " 424,\n",
              " 425,\n",
              " 426,\n",
              " 427,\n",
              " 428,\n",
              " 429,\n",
              " 430,\n",
              " 431,\n",
              " 432,\n",
              " 433,\n",
              " 434,\n",
              " 435,\n",
              " 436,\n",
              " 437,\n",
              " 438,\n",
              " 439,\n",
              " 440,\n",
              " 441,\n",
              " 442,\n",
              " 443,\n",
              " 444,\n",
              " 445,\n",
              " 446,\n",
              " 447,\n",
              " 448,\n",
              " 449,\n",
              " 450,\n",
              " 451,\n",
              " 452,\n",
              " 453,\n",
              " 454,\n",
              " 455,\n",
              " 456,\n",
              " 457,\n",
              " 458,\n",
              " 459,\n",
              " 460,\n",
              " 461,\n",
              " 462,\n",
              " 463,\n",
              " 464,\n",
              " 465,\n",
              " 466,\n",
              " 467,\n",
              " 468,\n",
              " 469,\n",
              " 470,\n",
              " 471,\n",
              " 472,\n",
              " 473,\n",
              " 474,\n",
              " 475,\n",
              " 476,\n",
              " 477,\n",
              " 478,\n",
              " 479,\n",
              " 480,\n",
              " 481,\n",
              " 482,\n",
              " 483,\n",
              " 484,\n",
              " 485,\n",
              " 486,\n",
              " 487,\n",
              " 488,\n",
              " 489,\n",
              " 490,\n",
              " 491,\n",
              " 492,\n",
              " 493,\n",
              " 494,\n",
              " 495,\n",
              " 496,\n",
              " 497,\n",
              " 498,\n",
              " 499,\n",
              " 500,\n",
              " 501,\n",
              " 502,\n",
              " 503,\n",
              " 504,\n",
              " 505,\n",
              " 506,\n",
              " 507,\n",
              " 508,\n",
              " 509,\n",
              " 510,\n",
              " 511,\n",
              " 512,\n",
              " 513,\n",
              " 514,\n",
              " 515,\n",
              " 516,\n",
              " 517,\n",
              " 518,\n",
              " 519,\n",
              " 520,\n",
              " 521,\n",
              " 522,\n",
              " 523,\n",
              " 524,\n",
              " 525,\n",
              " 526,\n",
              " 527,\n",
              " 528,\n",
              " 529,\n",
              " 530,\n",
              " 531,\n",
              " 532,\n",
              " 533,\n",
              " 534,\n",
              " 535,\n",
              " 536,\n",
              " 537,\n",
              " 538,\n",
              " 539,\n",
              " 540,\n",
              " 541,\n",
              " 542,\n",
              " 543,\n",
              " 544,\n",
              " 545,\n",
              " 546,\n",
              " 547,\n",
              " 548,\n",
              " 549,\n",
              " 550,\n",
              " 551,\n",
              " 552,\n",
              " 553,\n",
              " 554,\n",
              " 555,\n",
              " 556,\n",
              " 557,\n",
              " 558,\n",
              " 559,\n",
              " 560,\n",
              " 561,\n",
              " 562,\n",
              " 563,\n",
              " 564,\n",
              " 565,\n",
              " 566,\n",
              " 567,\n",
              " 568,\n",
              " 569,\n",
              " 570,\n",
              " 571,\n",
              " 572,\n",
              " 573,\n",
              " 574,\n",
              " 575,\n",
              " 576,\n",
              " 577,\n",
              " 578,\n",
              " 579,\n",
              " 580,\n",
              " 581,\n",
              " 582,\n",
              " 583,\n",
              " 584,\n",
              " 585,\n",
              " 586,\n",
              " 587,\n",
              " 588,\n",
              " 589,\n",
              " 590,\n",
              " 591,\n",
              " 592,\n",
              " 593,\n",
              " 594,\n",
              " 595,\n",
              " 596,\n",
              " 597,\n",
              " 598,\n",
              " 599,\n",
              " 600,\n",
              " 601,\n",
              " 602,\n",
              " 603,\n",
              " 604,\n",
              " 605,\n",
              " 606,\n",
              " 607,\n",
              " 608,\n",
              " 609,\n",
              " 610,\n",
              " 611,\n",
              " 612,\n",
              " 613,\n",
              " 614,\n",
              " 615,\n",
              " 616,\n",
              " 617,\n",
              " 618,\n",
              " 619,\n",
              " 620,\n",
              " 621,\n",
              " 622,\n",
              " 623,\n",
              " 624,\n",
              " 625,\n",
              " 626,\n",
              " 627,\n",
              " 628,\n",
              " 629,\n",
              " 630,\n",
              " 631,\n",
              " 632,\n",
              " 633,\n",
              " 634,\n",
              " 635,\n",
              " 636,\n",
              " 637,\n",
              " 638,\n",
              " 639,\n",
              " 640,\n",
              " 641,\n",
              " 642,\n",
              " 643,\n",
              " 644,\n",
              " 645,\n",
              " 646,\n",
              " 647,\n",
              " 648,\n",
              " 649,\n",
              " 650,\n",
              " 651,\n",
              " 652,\n",
              " 653,\n",
              " 654,\n",
              " 655,\n",
              " 656,\n",
              " 657,\n",
              " 658,\n",
              " 659,\n",
              " 660,\n",
              " 661,\n",
              " 662,\n",
              " 663,\n",
              " 664,\n",
              " 665,\n",
              " 666,\n",
              " 667,\n",
              " 668,\n",
              " 669,\n",
              " 670,\n",
              " 671,\n",
              " 672,\n",
              " 673,\n",
              " 674,\n",
              " 675,\n",
              " 676,\n",
              " 677,\n",
              " 678,\n",
              " 679,\n",
              " 680,\n",
              " 681,\n",
              " 682,\n",
              " 683,\n",
              " 684,\n",
              " 685,\n",
              " 686,\n",
              " 687,\n",
              " 688,\n",
              " 689,\n",
              " 690,\n",
              " 691,\n",
              " 692,\n",
              " 693,\n",
              " 694,\n",
              " 695,\n",
              " 696,\n",
              " 697,\n",
              " 698,\n",
              " 699,\n",
              " 700,\n",
              " 701,\n",
              " 702,\n",
              " 703,\n",
              " 704,\n",
              " 705,\n",
              " 706,\n",
              " 707,\n",
              " 708,\n",
              " 709,\n",
              " 710,\n",
              " 711,\n",
              " 712,\n",
              " 713,\n",
              " 714,\n",
              " 715,\n",
              " 716,\n",
              " 717,\n",
              " 718,\n",
              " 719,\n",
              " 720,\n",
              " 721,\n",
              " 722,\n",
              " 723,\n",
              " 724,\n",
              " 725,\n",
              " 726,\n",
              " 727,\n",
              " 728,\n",
              " 729,\n",
              " 730,\n",
              " 731,\n",
              " 732,\n",
              " 733,\n",
              " 734,\n",
              " 735,\n",
              " 736,\n",
              " 737,\n",
              " 738,\n",
              " 739,\n",
              " 740,\n",
              " 741,\n",
              " 742,\n",
              " 743,\n",
              " 744,\n",
              " 745,\n",
              " 746,\n",
              " 747,\n",
              " 748,\n",
              " 749,\n",
              " 750,\n",
              " 751,\n",
              " 752,\n",
              " 753,\n",
              " 754,\n",
              " 755,\n",
              " 756,\n",
              " 757,\n",
              " 758,\n",
              " 759,\n",
              " 760,\n",
              " 761,\n",
              " 762,\n",
              " 763,\n",
              " 764,\n",
              " 765,\n",
              " 766,\n",
              " 767,\n",
              " 768,\n",
              " 769,\n",
              " 770,\n",
              " 771,\n",
              " 772,\n",
              " 773,\n",
              " 774,\n",
              " 775,\n",
              " 776,\n",
              " 777,\n",
              " 778,\n",
              " 779,\n",
              " 780,\n",
              " 781,\n",
              " 782,\n",
              " 783,\n",
              " 784,\n",
              " 785,\n",
              " 786,\n",
              " 787,\n",
              " 788,\n",
              " 789,\n",
              " 790,\n",
              " 791,\n",
              " 792,\n",
              " 793,\n",
              " 794,\n",
              " 795,\n",
              " 796,\n",
              " 797,\n",
              " 798,\n",
              " 799,\n",
              " 800,\n",
              " 801,\n",
              " 802,\n",
              " 803,\n",
              " 804,\n",
              " 805,\n",
              " 806,\n",
              " 807,\n",
              " 808,\n",
              " 809,\n",
              " 810,\n",
              " 811,\n",
              " 812,\n",
              " 813,\n",
              " 814,\n",
              " 815,\n",
              " 816,\n",
              " 817,\n",
              " 818,\n",
              " 819,\n",
              " 820,\n",
              " 821,\n",
              " 822,\n",
              " 823,\n",
              " 824,\n",
              " 825,\n",
              " 826,\n",
              " 827,\n",
              " 828,\n",
              " 829,\n",
              " 830,\n",
              " 831,\n",
              " 832,\n",
              " 833,\n",
              " 834,\n",
              " 835,\n",
              " 836,\n",
              " 837,\n",
              " 838,\n",
              " 839,\n",
              " 840,\n",
              " 841,\n",
              " 842,\n",
              " 843,\n",
              " 844,\n",
              " 845,\n",
              " 846,\n",
              " 847,\n",
              " 848,\n",
              " 849,\n",
              " 850,\n",
              " 851,\n",
              " 852,\n",
              " 853,\n",
              " 854,\n",
              " 855,\n",
              " 856,\n",
              " 857,\n",
              " 858,\n",
              " 859,\n",
              " 860,\n",
              " 861,\n",
              " 862,\n",
              " 863,\n",
              " 864,\n",
              " 865,\n",
              " 866,\n",
              " 867,\n",
              " 868,\n",
              " 869,\n",
              " 870,\n",
              " 871,\n",
              " 872,\n",
              " 873,\n",
              " 874,\n",
              " 875,\n",
              " 876,\n",
              " 877,\n",
              " 878,\n",
              " 879,\n",
              " 880,\n",
              " 881,\n",
              " 882,\n",
              " 883,\n",
              " 884,\n",
              " 885,\n",
              " 886,\n",
              " 887,\n",
              " 888,\n",
              " 889,\n",
              " 890,\n",
              " 891,\n",
              " 892,\n",
              " 893,\n",
              " 894,\n",
              " 895,\n",
              " 896,\n",
              " 897,\n",
              " 898,\n",
              " 899,\n",
              " 900,\n",
              " 901,\n",
              " 902,\n",
              " 903,\n",
              " 904,\n",
              " 905,\n",
              " 906,\n",
              " 907,\n",
              " 908,\n",
              " 909,\n",
              " 910,\n",
              " 911,\n",
              " 912,\n",
              " 913,\n",
              " 914,\n",
              " 915,\n",
              " 916,\n",
              " 917,\n",
              " 918,\n",
              " 919,\n",
              " 920,\n",
              " 921,\n",
              " 922,\n",
              " 923,\n",
              " 924,\n",
              " 925,\n",
              " 926,\n",
              " 927,\n",
              " 928,\n",
              " 929,\n",
              " 930,\n",
              " 931,\n",
              " 932,\n",
              " 933,\n",
              " 934,\n",
              " 935,\n",
              " 936,\n",
              " 937,\n",
              " 938,\n",
              " 939,\n",
              " 940,\n",
              " 941,\n",
              " 942,\n",
              " 943,\n",
              " 944,\n",
              " 945,\n",
              " 946,\n",
              " 947,\n",
              " 948,\n",
              " 949,\n",
              " 950,\n",
              " 951,\n",
              " 952,\n",
              " 953,\n",
              " 954,\n",
              " 955,\n",
              " 956,\n",
              " 957,\n",
              " 958,\n",
              " 959,\n",
              " 960,\n",
              " 961,\n",
              " 962,\n",
              " 963,\n",
              " 964,\n",
              " 965,\n",
              " 966,\n",
              " 967,\n",
              " 968,\n",
              " 969,\n",
              " 970,\n",
              " 971,\n",
              " 972,\n",
              " 973,\n",
              " 974,\n",
              " 975,\n",
              " 976,\n",
              " 977,\n",
              " 978,\n",
              " 979,\n",
              " 980,\n",
              " 981,\n",
              " 982,\n",
              " 983,\n",
              " 984,\n",
              " 985,\n",
              " 986,\n",
              " 987,\n",
              " 988,\n",
              " 989,\n",
              " 990,\n",
              " 991,\n",
              " 992,\n",
              " 993,\n",
              " 994,\n",
              " 995,\n",
              " 996,\n",
              " 997,\n",
              " 998,\n",
              " 999]"
            ]
          },
          "execution_count": 56,
          "metadata": {},
          "output_type": "execute_result"
        }
      ],
      "source": [
        "list(data_table.index)"
      ]
    },
    {
      "cell_type": "markdown",
      "metadata": {
        "id": "lh-1AaeoD9Tq"
      },
      "source": [
        "### Q1.4 Change the column labels to upper case letters, 'A', 'B', 'C', 'D'."
      ]
    },
    {
      "cell_type": "code",
      "execution_count": 57,
      "metadata": {
        "id": "kM5NAgczEB9k"
      },
      "outputs": [
        {
          "data": {
            "text/plain": [
              "['A', 'B', 'C', 'D']"
            ]
          },
          "execution_count": 57,
          "metadata": {},
          "output_type": "execute_result"
        }
      ],
      "source": [
        "data_table = data_table.rename(columns = {\"a\":\"A\",\"b\":\"B\",\"c\":\"C\",\"d\":\"D\"})\n",
        "list(data_table.columns)"
      ]
    },
    {
      "cell_type": "markdown",
      "metadata": {
        "id": "UPpdleeuE5iN"
      },
      "source": [
        "### Q1.5 Use pandas describe() function to show summary statistics of the data frame (FYI, compare the numbers with the boxplot in Q1.6.)"
      ]
    },
    {
      "cell_type": "code",
      "execution_count": 22,
      "metadata": {
        "id": "_JK-DYTIFGCf"
      },
      "outputs": [
        {
          "data": {
            "text/html": [
              "<div>\n",
              "<style scoped>\n",
              "    .dataframe tbody tr th:only-of-type {\n",
              "        vertical-align: middle;\n",
              "    }\n",
              "\n",
              "    .dataframe tbody tr th {\n",
              "        vertical-align: top;\n",
              "    }\n",
              "\n",
              "    .dataframe thead th {\n",
              "        text-align: right;\n",
              "    }\n",
              "</style>\n",
              "<table border=\"1\" class=\"dataframe\">\n",
              "  <thead>\n",
              "    <tr style=\"text-align: right;\">\n",
              "      <th></th>\n",
              "      <th>A</th>\n",
              "      <th>B</th>\n",
              "      <th>C</th>\n",
              "      <th>D</th>\n",
              "    </tr>\n",
              "  </thead>\n",
              "  <tbody>\n",
              "    <tr>\n",
              "      <th>count</th>\n",
              "      <td>1000.000000</td>\n",
              "      <td>1000.000000</td>\n",
              "      <td>1000.000000</td>\n",
              "      <td>1000.000000</td>\n",
              "    </tr>\n",
              "    <tr>\n",
              "      <th>mean</th>\n",
              "      <td>3.993356</td>\n",
              "      <td>2.960433</td>\n",
              "      <td>2.786134</td>\n",
              "      <td>4.158032</td>\n",
              "    </tr>\n",
              "    <tr>\n",
              "      <th>std</th>\n",
              "      <td>1.009219</td>\n",
              "      <td>3.131134</td>\n",
              "      <td>0.711737</td>\n",
              "      <td>7.951631</td>\n",
              "    </tr>\n",
              "    <tr>\n",
              "      <th>min</th>\n",
              "      <td>0.876039</td>\n",
              "      <td>0.000909</td>\n",
              "      <td>1.056609</td>\n",
              "      <td>2.000620</td>\n",
              "    </tr>\n",
              "    <tr>\n",
              "      <th>25%</th>\n",
              "      <td>3.271742</td>\n",
              "      <td>0.763997</td>\n",
              "      <td>2.274519</td>\n",
              "      <td>2.321567</td>\n",
              "    </tr>\n",
              "    <tr>\n",
              "      <th>50%</th>\n",
              "      <td>4.042064</td>\n",
              "      <td>1.983874</td>\n",
              "      <td>2.699545</td>\n",
              "      <td>2.919469</td>\n",
              "    </tr>\n",
              "    <tr>\n",
              "      <th>75%</th>\n",
              "      <td>4.705365</td>\n",
              "      <td>4.042860</td>\n",
              "      <td>3.202333</td>\n",
              "      <td>4.013069</td>\n",
              "    </tr>\n",
              "    <tr>\n",
              "      <th>max</th>\n",
              "      <td>6.870148</td>\n",
              "      <td>24.173974</td>\n",
              "      <td>6.032348</td>\n",
              "      <td>157.940206</td>\n",
              "    </tr>\n",
              "  </tbody>\n",
              "</table>\n",
              "</div>"
            ],
            "text/plain": [
              "                 A            B            C            D\n",
              "count  1000.000000  1000.000000  1000.000000  1000.000000\n",
              "mean      3.993356     2.960433     2.786134     4.158032\n",
              "std       1.009219     3.131134     0.711737     7.951631\n",
              "min       0.876039     0.000909     1.056609     2.000620\n",
              "25%       3.271742     0.763997     2.274519     2.321567\n",
              "50%       4.042064     1.983874     2.699545     2.919469\n",
              "75%       4.705365     4.042860     3.202333     4.013069\n",
              "max       6.870148    24.173974     6.032348   157.940206"
            ]
          },
          "execution_count": 22,
          "metadata": {},
          "output_type": "execute_result"
        }
      ],
      "source": [
        "data_table.describe()"
      ]
    },
    {
      "cell_type": "markdown",
      "metadata": {
        "id": "MGhwgjX-FOXi"
      },
      "source": [
        "### Q1.6. Show a boxplot of the data."
      ]
    },
    {
      "cell_type": "code",
      "execution_count": 44,
      "metadata": {
        "id": "p72c8Q2di4Bv"
      },
      "outputs": [
        {
          "data": {
            "image/png": "[encoded data removed]",
            "text/plain": [
              "<Figure size 640x480 with 1 Axes>"
            ]
          },
          "metadata": {},
          "output_type": "display_data"
        }
      ],
      "source": [
        "boxplot1 = data_table.boxplot()\n",
        "plt.show()"
      ]
    },
    {
      "cell_type": "markdown",
      "metadata": {
        "id": "M00lpP6ci4Bw"
      },
      "source": [
        "### Q1.7 Apply log2 transformation (with applymap and np.log2) to the data and show the boxplot."
      ]
    },
    {
      "cell_type": "code",
      "execution_count": 46,
      "metadata": {
        "id": "Vgke34Xzi4Bz"
      },
      "outputs": [
        {
          "data": {
            "image/png": "[encoded data removed]",
            "text/plain": [
              "<Figure size 640x480 with 1 Axes>"
            ]
          },
          "metadata": {},
          "output_type": "display_data"
        }
      ],
      "source": [
        "data_table_log = data_table.applymap(np.log2)\n",
        "\n",
        "data_table_log.boxplot()\n",
        "\n",
        "plt.show()"
      ]
    },
    {
      "cell_type": "markdown",
      "metadata": {
        "id": "Uu2iJwUOi4B1"
      },
      "source": [
        "### Q1.8. Use pandas function hist to show the histogram of each column of the data frame. (Use option density = True so it plots probability instead of counts.)"
      ]
    },
    {
      "cell_type": "code",
      "execution_count": 47,
      "metadata": {
        "id": "AH_tYM3Si4B4"
      },
      "outputs": [
        {
          "data": {
            "image/png": "[encoded data removed]",
            "text/plain": [
              "<Figure size 640x480 with 4 Axes>"
            ]
          },
          "metadata": {},
          "output_type": "display_data"
        }
      ],
      "source": [
        "data_table.hist(density = True)\n",
        "plt.show()"
      ]
    },
    {
      "cell_type": "markdown",
      "metadata": {
        "id": "EP4fjJtmL2Fg"
      },
      "source": [
        "### Q1.9 Use pandas function hist to show the histogram of the log transformed data frame. (Use option density = True so it plots probability instead of counts.)"
      ]
    },
    {
      "cell_type": "code",
      "execution_count": 48,
      "metadata": {
        "id": "yCL4DYj0i4B5"
      },
      "outputs": [
        {
          "data": {
            "image/png": "[encoded data removed]",
            "text/plain": [
              "<Figure size 640x480 with 4 Axes>"
            ]
          },
          "metadata": {},
          "output_type": "display_data"
        }
      ],
      "source": [
        "data_table_log.hist(density = True)\n",
        "plt.show()"
      ]
    },
    {
      "cell_type": "markdown",
      "metadata": {},
      "source": []
    },
    {
      "cell_type": "markdown",
      "metadata": {
        "id": "B7hbEfDhi4B6"
      },
      "source": [
        "### Q1.10. Based on the information and plots you obtained above, which column do you think is from normal distribution and which column is from log normal distribution? (FYI: data in the four columns come from four different distributions we discussed in class: normal, lognormal, exponential, and pareto. See slides 4.1-stats.pptx page 27-49.).\n"
      ]
    },
    {
      "attachments": {},
      "cell_type": "markdown",
      "metadata": {
        "id": "n8gTNOparPnM"
      },
      "source": [
        "Show your answer here: A = Normal, B = Exponential, C = Lognormal, D = Pareto"
      ]
    },
    {
      "cell_type": "markdown",
      "metadata": {
        "id": "uJYExeVVskDK"
      },
      "source": [
        "## Q2. Pandas DataFrame operations (40 points)"
      ]
    },
    {
      "cell_type": "markdown",
      "metadata": {
        "id": "fJ_weccvszPJ"
      },
      "source": [
        "### Q2a (6 pts) Load data stored in brfss.csv (locally or from github) into a python DataFrame. The first line in the file is column header, and the first column in the file is row index. First drop the 'wtkg2' and ‘wtyrago’ column, and then drop the rows that have any NaN values. (Why the order matters?) Change the sex column so that True means male and False means female. (Originally, sex == 2 means female and sex == 1 means male.) Rename the columns to age, weight, height, and isMale. Name the final DataFrame as brfss. Print out the shape (number of rows and columns) of brfss (you should have 393518 rows)."
      ]
    },
    {
      "cell_type": "code",
      "execution_count": 2,
      "metadata": {
        "id": "5XB5sHZyi4B7"
      },
      "outputs": [
        {
          "name": "stderr",
          "output_type": "stream",
          "text": [
            "C:\\Users\\Kim_J\\AppData\\Local\\Temp\\ipykernel_20684\\3590782231.py:9: SettingWithCopyWarning: \n",
            "A value is trying to be set on a copy of a slice from a DataFrame.\n",
            "Try using .loc[row_indexer,col_indexer] = value instead\n",
            "\n",
            "See the caveats in the documentation: https://pandas.pydata.org/pandas-docs/stable/user_guide/indexing.html#returning-a-view-versus-a-copy\n",
            "  data_table2_2['sex'] = data_table2_2['sex'].replace(to_replace= [1,2], value=[\"male\",\"female\"])\n"
          ]
        },
        {
          "data": {
            "text/plain": [
              "(393518, 4)"
            ]
          },
          "execution_count": 2,
          "metadata": {},
          "output_type": "execute_result"
        }
      ],
      "source": [
        "url2 = 'brfss.csv'\n",
        "data_table2 = pd.read_csv(url2,header=0,index_col=0)\n",
        "\n",
        "\n",
        "data_table2_1 = data_table2.drop([\"wtkg2\",\"wtyrago\"],axis= 1)\n",
        "\n",
        "data_table2_2 = data_table2_1.dropna()\n",
        "\n",
        "data_table2_2['sex'] = data_table2_2['sex'].replace(to_replace= [1,2], value=[\"male\",\"female\"])\n",
        "\n",
        "brfss =  data_table2_2.rename(columns = {\"weight2\":\"weight\",\"htm3\":\"height\",\"sex\":\"isMale\"})\n",
        "\n",
        "\n",
        "brfss.shape\n"
      ]
    },
    {
      "cell_type": "markdown",
      "metadata": {
        "id": "vKfcYfYWuTE6"
      },
      "source": [
        "### Q2b. (30 pts – 3 pts each) Based on the DataFrame brfss, print out answers to the following questions using pandas DataFrame functionality"
      ]
    },
    {
      "cell_type": "markdown",
      "metadata": {
        "id": "40L0iKwoi4B9"
      },
      "source": [
        "#### i. What is the median age for people in the dataset?"
      ]
    },
    {
      "cell_type": "code",
      "execution_count": 77,
      "metadata": {
        "id": "bfAMhs7di4B9"
      },
      "outputs": [
        {
          "data": {
            "text/plain": [
              "55.0"
            ]
          },
          "execution_count": 77,
          "metadata": {},
          "output_type": "execute_result"
        }
      ],
      "source": [
        "brfss['age'].median()"
      ]
    },
    {
      "cell_type": "markdown",
      "metadata": {
        "id": "Sd_czbjUi4B-"
      },
      "source": [
        "#### ii.\tWhat is the max height for people in the dataset?"
      ]
    },
    {
      "cell_type": "code",
      "execution_count": 78,
      "metadata": {
        "id": "sFJ5roX-i4B-"
      },
      "outputs": [
        {
          "data": {
            "text/plain": [
              "236.0"
            ]
          },
          "execution_count": 78,
          "metadata": {},
          "output_type": "execute_result"
        }
      ],
      "source": [
        "brfss['height'].max()"
      ]
    },
    {
      "cell_type": "markdown",
      "metadata": {
        "id": "kUiAJjZ9i4B_"
      },
      "source": [
        "#### iii.\tWhat is the median height for male in the dataset? "
      ]
    },
    {
      "cell_type": "code",
      "execution_count": 79,
      "metadata": {
        "id": "G24STiK2i4B_"
      },
      "outputs": [
        {
          "data": {
            "text/plain": [
              "178.0"
            ]
          },
          "execution_count": 79,
          "metadata": {},
          "output_type": "execute_result"
        }
      ],
      "source": [
        "brfss.loc[brfss['isMale'] == 'male', 'height'].median()"
      ]
    },
    {
      "cell_type": "markdown",
      "metadata": {
        "id": "MnqLPL96i4B_"
      },
      "source": [
        "#### iv.\tWhat is the median height for female in the dataset? "
      ]
    },
    {
      "cell_type": "code",
      "execution_count": 80,
      "metadata": {
        "id": "TIVkWBt9i4CA"
      },
      "outputs": [
        {
          "data": {
            "text/plain": [
              "163.0"
            ]
          },
          "execution_count": 80,
          "metadata": {},
          "output_type": "execute_result"
        }
      ],
      "source": [
        "brfss.loc[brfss['isMale'] == 'female', 'height'].median()"
      ]
    },
    {
      "cell_type": "markdown",
      "metadata": {
        "id": "b9WxxwF9i4CA"
      },
      "source": [
        "#### v.\tWhat is the mean weight for male <= 55 years old?"
      ]
    },
    {
      "cell_type": "code",
      "execution_count": 103,
      "metadata": {
        "id": "5CYAbCHGi4CB"
      },
      "outputs": [
        {
          "name": "stdout",
          "output_type": "stream",
          "text": [
            "90.16327635033649\n"
          ]
        }
      ],
      "source": [
        "brfss_male = brfss.loc[brfss['isMale'] == 'male']\n",
        "\n",
        "old = brfss_male.loc[brfss_male['age'] <= 55,'weight'].mean()\n",
        "old_df = brfss_male.loc[brfss_male['age'] <= 55,'weight']\n",
        "\n",
        "young = brfss_male.loc[brfss_male['age'] > 55,'weight'].mean()\n",
        "young_df = brfss_male.loc[brfss_male['age'] > 55,'weight']\n",
        "print(old)"
      ]
    },
    {
      "cell_type": "markdown",
      "metadata": {
        "id": "-EUtDHfCybRY"
      },
      "source": [
        "#### (bonus 4 pts) Use t-test to compare the weights for male <= 55 years old and male > 55 years old and report the t-statistic and p-value. Which group is heavier and is the difference statistically significant? "
      ]
    },
    {
      "cell_type": "code",
      "execution_count": 106,
      "metadata": {
        "id": "5yQp_5hDy1UI"
      },
      "outputs": [
        {
          "name": "stdout",
          "output_type": "stream",
          "text": [
            "87.88260428449524\n",
            "90.16327635033649\n",
            "9.032608028299036e-132\n",
            "There is a difference since the p-value above is extremely small\n"
          ]
        }
      ],
      "source": [
        "\n",
        "print(young)\n",
        "print(old)\n",
        "var = scipy.stats.ttest_ind(young_df,old_df)\n",
        "print(var[1])\n",
        "print(\"There is a difference since the p-value above is extremely small\")"
      ]
    },
    {
      "cell_type": "markdown",
      "metadata": {
        "id": "3bAxkt2Ci4CB"
      },
      "source": [
        "#### vi.\tHow many females are in the dataset?"
      ]
    },
    {
      "cell_type": "code",
      "execution_count": 128,
      "metadata": {
        "id": "rGPK2mRHi4CC"
      },
      "outputs": [
        {
          "data": {
            "text/plain": [
              "240932"
            ]
          },
          "execution_count": 128,
          "metadata": {},
          "output_type": "execute_result"
        }
      ],
      "source": [
        "(brfss['isMale'] == 'female').sum()\n"
      ]
    },
    {
      "cell_type": "markdown",
      "metadata": {
        "id": "hXVzACcBi4CC"
      },
      "source": [
        "#### vii.\tHow many male in the dataset has height > 190cm and weight < 50kg?"
      ]
    },
    {
      "cell_type": "code",
      "execution_count": 133,
      "metadata": {
        "id": "qzLqKheii4CD"
      },
      "outputs": [
        {
          "data": {
            "text/plain": [
              "3"
            ]
          },
          "execution_count": 133,
          "metadata": {},
          "output_type": "execute_result"
        }
      ],
      "source": [
        "brfss_2 = brfss.loc[ (brfss['isMale'] == 'male') & (brfss['height'] > 190) & (brfss['weight'] < 50)]\n",
        "len(brfss_2)"
      ]
    },
    {
      "cell_type": "markdown",
      "metadata": {
        "id": "nACplB84i4CD"
      },
      "source": [
        "#### viii.\tWhat is the average height of males whose weight is 70kg?"
      ]
    },
    {
      "cell_type": "code",
      "execution_count": 134,
      "metadata": {
        "id": "bCUCpiXSi4CD"
      },
      "outputs": [
        {
          "data": {
            "text/plain": [
              "172.77258566978193"
            ]
          },
          "execution_count": 134,
          "metadata": {},
          "output_type": "execute_result"
        }
      ],
      "source": [
        "brfss_male.loc[brfss_male['weight'] == 70, 'height'].mean()"
      ]
    },
    {
      "cell_type": "markdown",
      "metadata": {
        "id": "xrWqjoVli4CE"
      },
      "source": [
        "#### ix.\tPrint out row 2001 to row 2010 (inclusive, a total of ten rows) from the dataframe. (Note: use position-based indexing. Pay attention to the total number of rows - 10 expected, and the index of each row - do you expect 2001 or 2010 to be in the list?)"
      ]
    },
    {
      "cell_type": "code",
      "execution_count": 109,
      "metadata": {
        "id": "I0zRFPyHrwMa"
      },
      "outputs": [
        {
          "data": {
            "text/html": [
              "<div>\n",
              "<style scoped>\n",
              "    .dataframe tbody tr th:only-of-type {\n",
              "        vertical-align: middle;\n",
              "    }\n",
              "\n",
              "    .dataframe tbody tr th {\n",
              "        vertical-align: top;\n",
              "    }\n",
              "\n",
              "    .dataframe thead th {\n",
              "        text-align: right;\n",
              "    }\n",
              "</style>\n",
              "<table border=\"1\" class=\"dataframe\">\n",
              "  <thead>\n",
              "    <tr style=\"text-align: right;\">\n",
              "      <th></th>\n",
              "      <th>age</th>\n",
              "      <th>weight</th>\n",
              "      <th>height</th>\n",
              "      <th>isMale</th>\n",
              "    </tr>\n",
              "  </thead>\n",
              "  <tbody>\n",
              "    <tr>\n",
              "      <th>2095</th>\n",
              "      <td>69.0</td>\n",
              "      <td>54.545455</td>\n",
              "      <td>163.0</td>\n",
              "      <td>female</td>\n",
              "    </tr>\n",
              "    <tr>\n",
              "      <th>2096</th>\n",
              "      <td>68.0</td>\n",
              "      <td>66.363636</td>\n",
              "      <td>170.0</td>\n",
              "      <td>female</td>\n",
              "    </tr>\n",
              "    <tr>\n",
              "      <th>2097</th>\n",
              "      <td>38.0</td>\n",
              "      <td>81.818182</td>\n",
              "      <td>165.0</td>\n",
              "      <td>female</td>\n",
              "    </tr>\n",
              "    <tr>\n",
              "      <th>2098</th>\n",
              "      <td>91.0</td>\n",
              "      <td>59.090909</td>\n",
              "      <td>152.0</td>\n",
              "      <td>female</td>\n",
              "    </tr>\n",
              "    <tr>\n",
              "      <th>2099</th>\n",
              "      <td>72.0</td>\n",
              "      <td>84.090909</td>\n",
              "      <td>160.0</td>\n",
              "      <td>female</td>\n",
              "    </tr>\n",
              "    <tr>\n",
              "      <th>2100</th>\n",
              "      <td>85.0</td>\n",
              "      <td>118.636364</td>\n",
              "      <td>178.0</td>\n",
              "      <td>male</td>\n",
              "    </tr>\n",
              "    <tr>\n",
              "      <th>2101</th>\n",
              "      <td>65.0</td>\n",
              "      <td>51.818182</td>\n",
              "      <td>150.0</td>\n",
              "      <td>female</td>\n",
              "    </tr>\n",
              "    <tr>\n",
              "      <th>2102</th>\n",
              "      <td>79.0</td>\n",
              "      <td>76.363636</td>\n",
              "      <td>170.0</td>\n",
              "      <td>male</td>\n",
              "    </tr>\n",
              "    <tr>\n",
              "      <th>2103</th>\n",
              "      <td>77.0</td>\n",
              "      <td>64.545455</td>\n",
              "      <td>163.0</td>\n",
              "      <td>female</td>\n",
              "    </tr>\n",
              "    <tr>\n",
              "      <th>2104</th>\n",
              "      <td>73.0</td>\n",
              "      <td>73.181818</td>\n",
              "      <td>160.0</td>\n",
              "      <td>female</td>\n",
              "    </tr>\n",
              "  </tbody>\n",
              "</table>\n",
              "</div>"
            ],
            "text/plain": [
              "       age      weight  height  isMale\n",
              "2095  69.0   54.545455   163.0  female\n",
              "2096  68.0   66.363636   170.0  female\n",
              "2097  38.0   81.818182   165.0  female\n",
              "2098  91.0   59.090909   152.0  female\n",
              "2099  72.0   84.090909   160.0  female\n",
              "2100  85.0  118.636364   178.0    male\n",
              "2101  65.0   51.818182   150.0  female\n",
              "2102  79.0   76.363636   170.0    male\n",
              "2103  77.0   64.545455   163.0  female\n",
              "2104  73.0   73.181818   160.0  female"
            ]
          },
          "execution_count": 109,
          "metadata": {},
          "output_type": "execute_result"
        }
      ],
      "source": [
        "brfss.iloc[2001:2011]"
      ]
    },
    {
      "cell_type": "markdown",
      "metadata": {
        "id": "pdlEfVOqi4CH"
      },
      "source": [
        "#### x.\tPrint out rows with index from 2001 to 2010 (inclusive, including 2001 and 2010). (Note: this is label-based indexing. Pay attention to the row indices and the number of rows displayed. Hint - you should see less than 10 rows due to NaNs being dropped out from the dataframe in 2a.)"
      ]
    },
    {
      "cell_type": "code",
      "execution_count": 114,
      "metadata": {
        "id": "qROPhAREr8Gg"
      },
      "outputs": [
        {
          "data": {
            "text/plain": [
              "(       age      weight  height  isMale\n",
              " 2001  54.0   90.000000   188.0    male\n",
              " 2002  29.0   79.545455   175.0  female\n",
              " 2004  30.0   90.909091   152.0  female\n",
              " 2005  37.0   59.090909   165.0  female\n",
              " 2006  25.0   97.727273   180.0  female\n",
              " 2007  43.0   62.727273   165.0  female\n",
              " 2008  40.0  100.909091   165.0  female\n",
              " 2009  51.0   70.454545   157.0  female\n",
              " 2010  45.0   85.000000   160.0  female,)"
            ]
          },
          "execution_count": 114,
          "metadata": {},
          "output_type": "execute_result"
        }
      ],
      "source": [
        "brfss.loc[2001:2010],"
      ]
    },
    {
      "cell_type": "markdown",
      "metadata": {
        "id": "GsH2OOnx3Mia"
      },
      "source": [
        "## Q3. Simple and multiple linear regression (45 points. Useful examples on slides #24, 35, etc.)"
      ]
    },
    {
      "cell_type": "markdown",
      "metadata": {
        "id": "931Qb_pii4CJ"
      },
      "source": [
        "### Q3a. (10 pts) From the brfss DataFrame created in Q2a, use the height column as Y, and weight column as X to perform a simple linear regression (See 6-regression.ppt slide #23, lr.fit). Print out the equation that is obtained by the linear regression in the form of “height = a + b * weight” (replace a and b with the values obtained from the linear regression, lr.intercept_ and lr.coef_.) (Note: you need to either make X a DataFrame or reshape X to be a n x 1 numpy array using reshape(-1, 1); see simpleRegression.ipynb.)"
      ]
    },
    {
      "cell_type": "code",
      "execution_count": 138,
      "metadata": {
        "id": "bq32-ZQbi4CK"
      },
      "outputs": [
        {
          "name": "stdout",
          "output_type": "stream",
          "text": [
            "alpha = 147.606\n",
            "beta = 0.270\n",
            "Linear equatation: y = 147.606 + 0.270x\n"
          ]
        }
      ],
      "source": [
        "x = np.array(brfss['weight']).reshape(-1, 1)  # need to make sure that x is a 2d array. \n",
        "y = np.array(brfss['height'])\n",
        "\n",
        "lr = lm.LinearRegression()\n",
        "lr.fit(x, y)\n",
        "\n",
        "print('Linear equatation: y = %.3f + %.3fx' %(lr.intercept_, lr.coef_))\n",
        "\n"
      ]
    },
    {
      "cell_type": "markdown",
      "metadata": {
        "id": "BiISA-hXi4CL"
      },
      "source": [
        "### Q3b. (4 pts) Use the linear regression object that you obtained in 3a to predict the height of an individual whose weight is 70kg (with lr.predict). Print out the predicted height. (As in 3a, make the value 70 a dataframe or a 1x1 numpy 2d array. You'll likely see a warning that says the data frame does not have a feature name - you can either ignore the warning, to copy the .columns attribute from the dataframe X to the new single-element dataframe.)"
      ]
    },
    {
      "cell_type": "code",
      "execution_count": 140,
      "metadata": {
        "id": "tdTVJTQ-i4CM"
      },
      "outputs": [
        {
          "data": {
            "text/plain": [
              "array([166.51184435])"
            ]
          },
          "execution_count": 140,
          "metadata": {},
          "output_type": "execute_result"
        }
      ],
      "source": [
        "X_test = np.array([70]).reshape(-1, 1) \n",
        "lr.predict(X_test)"
      ]
    },
    {
      "cell_type": "markdown",
      "metadata": {
        "id": "L-rrlxahi4CM"
      },
      "source": [
        "### Q3c (6 pts) Compute the MSE and R-square of the simple linear regression. (Slide #23, Imported as r2 and mse.)"
      ]
    },
    {
      "cell_type": "code",
      "execution_count": 142,
      "metadata": {
        "id": "D4ul4OJai4CN"
      },
      "outputs": [
        {
          "name": "stdout",
          "output_type": "stream",
          "text": [
            "r2 = 0.258\n",
            "mse = 80.106\n"
          ]
        }
      ],
      "source": [
        "pred = lr.predict(x) \n",
        "\n",
        "print('r2 = %.3f' % r2(y, pred))\n",
        "print('mse = %.3f' % mse(y, pred))\n"
      ]
    },
    {
      "cell_type": "markdown",
      "metadata": {
        "id": "hFo2tDGSi4CN"
      },
      "source": [
        "### Q3d. (10 pts) From the brfss DataFrame above, use the height column as Y, and two columns, weight and isMale, as X, to perform a multiple linear regression (slides #34). Print out the equation that is obtained by the linear regression in the form of “height = a + b * weight + c * isMale” (replace a, b and c with the values in lr.intercept_ and lr.coef_.) (FYI: compare the a, b, c values from the a, b values from Q3a.)"
      ]
    },
    {
      "cell_type": "code",
      "execution_count": 16,
      "metadata": {
        "id": "fpBWgDw6i4CN"
      },
      "outputs": [
        {
          "name": "stdout",
          "output_type": "stream",
          "text": [
            "Linear equatation: height = 152.792 + 0.143*weight + 12.553*isMale \n"
          ]
        }
      ],
      "source": [
        "\n",
        "male = pd.get_dummies(brfss['isMale'], drop_first=True)\n",
        "\n",
        "x = brfss['weight']\n",
        "y = np.array(brfss['height'])\n",
        "\n",
        "x2 = pd.concat([x, male['male']],axis = 1)\n",
        "\n",
        "lr2 = lm.LinearRegression()\n",
        "lr2.fit(x2, y)\n",
        "\n",
        "\n",
        "print('Linear equatation: height = %.3f + %.3f*weight + %.3f*isMale ' %(lr2.intercept_, lr2.coef_[0],lr2.coef_[1]))"
      ]
    },
    {
      "cell_type": "markdown",
      "metadata": {
        "id": "1oX3JB1Ji4CP"
      },
      "source": [
        "### Q3e (3 pts) Use the linear regression object that you obtained in 3d to predict the height of a male whose weight is 70kg. Print out the predicted height."
      ]
    },
    {
      "cell_type": "code",
      "execution_count": 23,
      "metadata": {
        "id": "CxcMKZmTi4CQ"
      },
      "outputs": [
        {
          "name": "stderr",
          "output_type": "stream",
          "text": [
            "c:\\Users\\Kim_J\\AppData\\Local\\Programs\\Python\\Python39\\lib\\site-packages\\sklearn\\base.py:439: UserWarning: X does not have valid feature names, but LinearRegression was fitted with feature names\n",
            "  warnings.warn(\n"
          ]
        },
        {
          "data": {
            "text/plain": [
              "array([175.3518648])"
            ]
          },
          "execution_count": 23,
          "metadata": {},
          "output_type": "execute_result"
        }
      ],
      "source": [
        "X2_test = np.array([70,1]).reshape(-1, 2) \n",
        "lr2.predict(X2_test)"
      ]
    },
    {
      "cell_type": "markdown",
      "metadata": {
        "id": "PgIXfhIfi4CQ"
      },
      "source": [
        "### Q3f. (3 pts) Use the linear regression object that you obtained in 3d to predict the height of a female whose weight is 70kg. Print out the predicted height. (Just FYI, what is the difference between this predicted value and the one in Q3e? Is it equal to the coefficient c you obtained in Q3d?)"
      ]
    },
    {
      "cell_type": "code",
      "execution_count": 26,
      "metadata": {
        "id": "qnvRkeUBi4CQ"
      },
      "outputs": [
        {
          "name": "stdout",
          "output_type": "stream",
          "text": [
            "[162.79908821]\n",
            "The difference is roughly equal to the coefficient\n"
          ]
        },
        {
          "name": "stderr",
          "output_type": "stream",
          "text": [
            "c:\\Users\\Kim_J\\AppData\\Local\\Programs\\Python\\Python39\\lib\\site-packages\\sklearn\\base.py:439: UserWarning: X does not have valid feature names, but LinearRegression was fitted with feature names\n",
            "  warnings.warn(\n"
          ]
        }
      ],
      "source": [
        "X3_test = np.array([70,0]).reshape(-1, 2) \n",
        "print(lr2.predict(X3_test))\n",
        "\n",
        "print(\"The difference is roughly equal to the coefficient\")"
      ]
    },
    {
      "cell_type": "markdown",
      "metadata": {
        "id": "knXA4Bfji4CR"
      },
      "source": [
        "### Q3g (4 pts) Compute the MSE and R-square of the multiple linear regression. (FYI: how do these two values compare with the values from Q3c?)"
      ]
    },
    {
      "cell_type": "code",
      "execution_count": 29,
      "metadata": {
        "id": "Im_D-Nl3i4CS"
      },
      "outputs": [
        {
          "name": "stdout",
          "output_type": "stream",
          "text": [
            "r2 = 0.547\n",
            "mse = 48.878\n"
          ]
        }
      ],
      "source": [
        "pred2 = lr2.predict(x2) \n",
        "print('r2 = %.3f' % r2(y, pred2))\n",
        "print('mse = %.3f' % mse(y, pred2))\n",
        "\n",
        "print(\"R2 is higher so there is more correlation and mse is lower so the model has less error.\")"
      ]
    },
    {
      "cell_type": "markdown",
      "metadata": {
        "id": "IR1c3FUo7KFw"
      },
      "source": [
        "### (Bonus: 5 points) Repeat 3d and 3g, using weight, isMale, and age as X variables to predict height. Print out the linear equation, and report the R2 as well as MSE. (Just FYI, compare these numbers to the numbers you obtained from the previous two models. Is age an important predictor? What techniques you might use to gain some confidence of the importance of each predictor?)"
      ]
    },
    {
      "cell_type": "code",
      "execution_count": 39,
      "metadata": {
        "id": "qdokwRhG7Kg8"
      },
      "outputs": [
        {
          "name": "stdout",
          "output_type": "stream",
          "text": [
            "Linear equatation: height = 156.041 + 0.139*weight + 12.552*isMale + -0.054*Age  \n",
            "r2 = 0.555\n",
            "mse = 48.078\n",
            "Age is an okay predictor. The R2 goes up but the mse does not change\n"
          ]
        }
      ],
      "source": [
        "\n",
        "x3 = pd.concat([x2, brfss['age']],axis = 1)\n",
        "\n",
        "lr3 = lm.LinearRegression()\n",
        "lr3.fit(x3, y)\n",
        "\n",
        "\n",
        "print('Linear equatation: height = %.3f + %.3f*weight + %.3f*isMale + %.3f*Age  ' %(lr3.intercept_, lr3.coef_[0],lr3.coef_[1],lr3.coef_[2]))\n",
        "\n",
        "pred3 = lr3.predict(x3) \n",
        "\n",
        "print('r2 = %.3f' % r2(y, pred3))\n",
        "print('mse = %.3f' % mse(y, pred3))\n",
        "\n",
        "print(\"Age is an okay predictor. The R2 goes up but the mse does not change\")"
      ]
    }
  ],
  "metadata": {
    "colab": {
      "provenance": []
    },
    "kernelspec": {
      "display_name": "Python 3",
      "language": "python",
      "name": "python3"
    },
    "language_info": {
      "codemirror_mode": {
        "name": "ipython",
        "version": 3
      },
      "file_extension": ".py",
      "mimetype": "text/x-python",
      "name": "python",
      "nbconvert_exporter": "python",
      "pygments_lexer": "ipython3",
      "version": "3.9.0"
    }
  },
  "nbformat": 4,
  "nbformat_minor": 0
}
